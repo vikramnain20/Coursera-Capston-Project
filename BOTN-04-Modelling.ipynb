{
 "cells": [
  {
   "cell_type": "markdown",
   "metadata": {},
   "source": [
    "# Model Creation and Evaluation\n",
    "\n",
    "In this section multiple models will be created and evaluated before a final model is chosen and evaluated.\n",
    "\n",
    "## Import Libraries\n",
    "\n",
    "As always, we start by importing the required libraries"
   ]
  },
  {
   "cell_type": "code",
   "execution_count": 14,
   "metadata": {},
   "outputs": [],
   "source": [
    "# Import Pandas\n",
    "import pandas as pd\n",
    "\n",
    "# Import Numpy\n",
    "import numpy as np\n",
    "\n",
    "# All the SciKit Learn Libraries Required\n",
    "from sklearn import preprocessing\n",
    "from sklearn.model_selection import train_test_split\n",
    "from sklearn.neighbors import KNeighborsClassifier\n",
    "from sklearn.naive_bayes import BernoulliNB\n",
    "from sklearn.ensemble import RandomForestClassifier\n",
    "from sklearn import metrics\n",
    "from sklearn.model_selection import KFold, cross_val_score\n",
    "\n",
    "# Decision Tree\n",
    "from datetime import datetime\n",
    "from sklearn.tree import DecisionTreeClassifier\n",
    "\n",
    "# Small Function to do X-Fold Cross Validation\n",
    "def cross_validate(model, n_splits = 10):\n",
    "    \n",
    "    k_fold = KFold(n_splits = n_splits)\n",
    "    scores = [model.fit(X[train], y[train]).score(X[test], y[test]) for train, test in k_fold.split(X)]\n",
    "    \n",
    "    scores = np.percentile(scores, [40, 50, 60])\n",
    "    return scores"
   ]
  },
  {
   "cell_type": "code",
   "execution_count": 3,
   "metadata": {},
   "outputs": [],
   "source": [
    "# Use the inline backend to generate the plots within the browser\n",
    "%matplotlib inline \n",
    "\n",
    "import matplotlib as mpl\n",
    "import matplotlib.pyplot as plt\n",
    "\n",
    "import seaborn as sns\n",
    "sns.set_style(\"darkgrid\")\n",
    "\n",
    "font = {'size'   : 12}\n",
    "mpl.rc('font', **font)"
   ]
  },
  {
   "cell_type": "markdown",
   "metadata": {},
   "source": [
    "## Import Dataframes from Pickle files\n",
    "\n",
    "We load in the exported pickle files of the dataframes created in the Data Acquition Section."
   ]
  },
  {
   "cell_type": "code",
   "execution_count": 5,
   "metadata": {},
   "outputs": [],
   "source": [
    "# Import the Pickle of the Crimes DataFrame\n",
    "df_crimes = pd.read_pickle('./capstone_pickles/crimes.pkl')\n",
    "df_crimes.drop('index', inplace=True, axis=1)\n",
    "\n",
    "# Import the Pickle of the Top Venues DataFrame\n",
    "df_topvnues = pd.read_pickle('./capstone_pickles/top_venues.pkl')\n",
    "\n",
    "# Import the Pickle of the Restaurants DataFrame\n",
    "df_rest = pd.read_pickle('./capstone_pickles/restaurants.pkl')"
   ]
  },
  {
   "cell_type": "markdown",
   "metadata": {},
   "source": [
    "# Data Preparation for Modelling\n",
    "\n",
    "Before we start modelling we need to prepare the data frame to include only mumerical data and by removing unneeded columns.\n",
    "\n",
    "Rather than removing colums from `df_crimes` a new `df_features` DataFrame will be created with just the required columns. This `df_features` DataFrame will then be processed to remove Categorical Data Types and replace them with One Hot encoding. Finally the Dependant Variables will be Normalised."
   ]
  },
  {
   "cell_type": "code",
   "execution_count": 6,
   "metadata": {},
   "outputs": [],
   "source": [
    "# Start by copying the Latitude and Longitude to the new DataFrame\n",
    "df_features = df_crimes[['latitude', 'longitude']]\n",
    "\n",
    "# Next and One Hot Encoding of the hour, day and month variables\n",
    "df_features = df_features.join(pd.get_dummies(df_crimes.hour, prefix='hour'))\n",
    "df_features = df_features.join(pd.get_dummies(df_crimes.day_name))\n",
    "df_features = df_features.join(pd.get_dummies(df_crimes.month_name))\n",
    "\n",
    "# Finally add the ward & crimes column, copied from the original Primary Description column\n",
    "df_features['ward'] = df_crimes[['ward']]\n",
    "df_features['crimes'] = df_crimes[['primary_description']]"
   ]
  },
  {
   "cell_type": "code",
   "execution_count": 7,
   "metadata": {},
   "outputs": [
    {
     "data": {
      "text/html": [
       "<div>\n",
       "<style scoped>\n",
       "    .dataframe tbody tr th:only-of-type {\n",
       "        vertical-align: middle;\n",
       "    }\n",
       "\n",
       "    .dataframe tbody tr th {\n",
       "        vertical-align: top;\n",
       "    }\n",
       "\n",
       "    .dataframe thead th {\n",
       "        text-align: right;\n",
       "    }\n",
       "</style>\n",
       "<table border=\"1\" class=\"dataframe\">\n",
       "  <thead>\n",
       "    <tr style=\"text-align: right;\">\n",
       "      <th></th>\n",
       "      <th>latitude</th>\n",
       "      <th>longitude</th>\n",
       "      <th>hour_0</th>\n",
       "      <th>hour_1</th>\n",
       "      <th>hour_2</th>\n",
       "      <th>hour_3</th>\n",
       "      <th>hour_4</th>\n",
       "      <th>hour_5</th>\n",
       "      <th>hour_6</th>\n",
       "      <th>hour_7</th>\n",
       "      <th>...</th>\n",
       "      <th>January</th>\n",
       "      <th>July</th>\n",
       "      <th>June</th>\n",
       "      <th>March</th>\n",
       "      <th>May</th>\n",
       "      <th>November</th>\n",
       "      <th>October</th>\n",
       "      <th>September</th>\n",
       "      <th>ward</th>\n",
       "      <th>crimes</th>\n",
       "    </tr>\n",
       "  </thead>\n",
       "  <tbody>\n",
       "    <tr>\n",
       "      <th>0</th>\n",
       "      <td>41.897895</td>\n",
       "      <td>-87.760744</td>\n",
       "      <td>0</td>\n",
       "      <td>0</td>\n",
       "      <td>0</td>\n",
       "      <td>0</td>\n",
       "      <td>0</td>\n",
       "      <td>0</td>\n",
       "      <td>0</td>\n",
       "      <td>0</td>\n",
       "      <td>...</td>\n",
       "      <td>0</td>\n",
       "      <td>0</td>\n",
       "      <td>0</td>\n",
       "      <td>0</td>\n",
       "      <td>0</td>\n",
       "      <td>0</td>\n",
       "      <td>0</td>\n",
       "      <td>0</td>\n",
       "      <td>37.0</td>\n",
       "      <td>NARCOTICS</td>\n",
       "    </tr>\n",
       "    <tr>\n",
       "      <th>1</th>\n",
       "      <td>41.798635</td>\n",
       "      <td>-87.604823</td>\n",
       "      <td>0</td>\n",
       "      <td>0</td>\n",
       "      <td>0</td>\n",
       "      <td>0</td>\n",
       "      <td>0</td>\n",
       "      <td>0</td>\n",
       "      <td>0</td>\n",
       "      <td>0</td>\n",
       "      <td>...</td>\n",
       "      <td>0</td>\n",
       "      <td>0</td>\n",
       "      <td>0</td>\n",
       "      <td>0</td>\n",
       "      <td>0</td>\n",
       "      <td>0</td>\n",
       "      <td>0</td>\n",
       "      <td>0</td>\n",
       "      <td>5.0</td>\n",
       "      <td>CRIMINAL DAMAGE</td>\n",
       "    </tr>\n",
       "    <tr>\n",
       "      <th>2</th>\n",
       "      <td>41.780946</td>\n",
       "      <td>-87.621995</td>\n",
       "      <td>0</td>\n",
       "      <td>0</td>\n",
       "      <td>0</td>\n",
       "      <td>0</td>\n",
       "      <td>0</td>\n",
       "      <td>0</td>\n",
       "      <td>0</td>\n",
       "      <td>0</td>\n",
       "      <td>...</td>\n",
       "      <td>0</td>\n",
       "      <td>0</td>\n",
       "      <td>0</td>\n",
       "      <td>0</td>\n",
       "      <td>0</td>\n",
       "      <td>0</td>\n",
       "      <td>0</td>\n",
       "      <td>0</td>\n",
       "      <td>20.0</td>\n",
       "      <td>THEFT</td>\n",
       "    </tr>\n",
       "    <tr>\n",
       "      <th>3</th>\n",
       "      <td>41.965404</td>\n",
       "      <td>-87.736202</td>\n",
       "      <td>0</td>\n",
       "      <td>0</td>\n",
       "      <td>0</td>\n",
       "      <td>0</td>\n",
       "      <td>0</td>\n",
       "      <td>0</td>\n",
       "      <td>0</td>\n",
       "      <td>0</td>\n",
       "      <td>...</td>\n",
       "      <td>0</td>\n",
       "      <td>0</td>\n",
       "      <td>0</td>\n",
       "      <td>0</td>\n",
       "      <td>0</td>\n",
       "      <td>0</td>\n",
       "      <td>0</td>\n",
       "      <td>0</td>\n",
       "      <td>39.0</td>\n",
       "      <td>THEFT</td>\n",
       "    </tr>\n",
       "    <tr>\n",
       "      <th>4</th>\n",
       "      <td>41.850673</td>\n",
       "      <td>-87.735597</td>\n",
       "      <td>0</td>\n",
       "      <td>0</td>\n",
       "      <td>0</td>\n",
       "      <td>0</td>\n",
       "      <td>0</td>\n",
       "      <td>0</td>\n",
       "      <td>0</td>\n",
       "      <td>0</td>\n",
       "      <td>...</td>\n",
       "      <td>0</td>\n",
       "      <td>0</td>\n",
       "      <td>0</td>\n",
       "      <td>0</td>\n",
       "      <td>0</td>\n",
       "      <td>0</td>\n",
       "      <td>0</td>\n",
       "      <td>0</td>\n",
       "      <td>22.0</td>\n",
       "      <td>ARSON</td>\n",
       "    </tr>\n",
       "  </tbody>\n",
       "</table>\n",
       "<p>5 rows × 47 columns</p>\n",
       "</div>"
      ],
      "text/plain": [
       "    latitude  longitude  hour_0  hour_1  hour_2  hour_3  hour_4  hour_5  \\\n",
       "0  41.897895 -87.760744       0       0       0       0       0       0   \n",
       "1  41.798635 -87.604823       0       0       0       0       0       0   \n",
       "2  41.780946 -87.621995       0       0       0       0       0       0   \n",
       "3  41.965404 -87.736202       0       0       0       0       0       0   \n",
       "4  41.850673 -87.735597       0       0       0       0       0       0   \n",
       "\n",
       "   hour_6  hour_7       ...         January  July  June  March  May  November  \\\n",
       "0       0       0       ...               0     0     0      0    0         0   \n",
       "1       0       0       ...               0     0     0      0    0         0   \n",
       "2       0       0       ...               0     0     0      0    0         0   \n",
       "3       0       0       ...               0     0     0      0    0         0   \n",
       "4       0       0       ...               0     0     0      0    0         0   \n",
       "\n",
       "   October  September  ward           crimes  \n",
       "0        0          0  37.0        NARCOTICS  \n",
       "1        0          0   5.0  CRIMINAL DAMAGE  \n",
       "2        0          0  20.0            THEFT  \n",
       "3        0          0  39.0            THEFT  \n",
       "4        0          0  22.0            ARSON  \n",
       "\n",
       "[5 rows x 47 columns]"
      ]
     },
     "execution_count": 7,
     "metadata": {},
     "output_type": "execute_result"
    }
   ],
   "source": [
    "df_features.head()"
   ]
  },
  {
   "cell_type": "markdown",
   "metadata": {},
   "source": [
    "There are a couple of further small changes to be made:\n",
    " - Create a smaller DataFrame of only the top two crimes\n",
    " - Create the X, dependant variables, DataFrames by dropping the Crimes column\n",
    " - Create the y, independant variable, \n",
    " - Normailse the X Data"
   ]
  },
  {
   "cell_type": "code",
   "execution_count": 116,
   "metadata": {},
   "outputs": [],
   "source": [
    "# Create a list of the 2 most commonly occuring crimes\n",
    "top_two_crimes = df_features[['crimes', 'ward']].groupby(\n",
    "    ['crimes']).count().sort_values('ward', ascending=False)[:2].axes[0].tolist()\n",
    "\n",
    "# Create a smaller DataFrame of only the top two crimes\n",
    "df_features_2 = df_features[df_features['crimes'].isin(top_two_crimes)].copy()"
   ]
  },
  {
   "cell_type": "code",
   "execution_count": 117,
   "metadata": {},
   "outputs": [],
   "source": [
    "X_2 = df_features_2.copy()\n",
    "y_2 = X_2.crimes.values\n",
    "\n",
    "X_2.drop('crimes', axis=1, inplace=True)\n",
    "X_2 = preprocessing.StandardScaler().fit(X_2).transform(X_2)"
   ]
  },
  {
   "cell_type": "code",
   "execution_count": 118,
   "metadata": {},
   "outputs": [],
   "source": [
    "# Set X = X_2\n",
    "X = X_2\n",
    "y = y_2"
   ]
  },
  {
   "cell_type": "markdown",
   "metadata": {},
   "source": [
    "### K Nearest Neighbor(KNN)\n",
    "Find the best k to build the model with the best accuracy."
   ]
  },
  {
   "cell_type": "code",
   "execution_count": 26,
   "metadata": {
    "scrolled": true
   },
   "outputs": [
    {
     "name": "stdout",
     "output_type": "stream",
     "text": [
      "Heighbours:  8   2018-10-08 15:52:13.421456\n",
      "Heighbours:  9   2018-10-08 16:00:51.217053\n",
      "Heighbours:  10   2018-10-08 16:10:11.199822\n",
      "Heighbours:  11   2018-10-08 16:21:14.573951\n",
      "Heighbours:  12   2018-10-08 16:31:42.417515\n"
     ]
    },
    {
     "data": {
      "image/png": "[encoded data removed]",
      "text/plain": [
       "<Figure size 432x288 with 1 Axes>"
      ]
     },
     "metadata": {
      "needs_background": "light"
     },
     "output_type": "display_data"
    }
   ],
   "source": [
    "# Number of neighbours\n",
    "neighs = range(8, 13)\n",
    "\n",
    "# Store the scores\n",
    "scores = np.zeros((len(neighs), 3))\n",
    "\n",
    "# Iterate to find the best model\n",
    "for idx, neigh in enumerate(neighs):\n",
    "    print('Heighbours: ', neigh, ' ', str(datetime.now()))\n",
    "    model = KNeighborsClassifier(n_neighbors = neigh)\n",
    "    scores[idx, : ] = cross_validate(model, n_splits = 10)\n",
    "\n",
    "# Plot the results\n",
    "plt.plot(neighs, scores[ : , 1], 'b')\n",
    "plt.fill_between(neighs, scores[ : , 0], scores[:, 2], alpha = 0.1)\n",
    "plt.legend(('Median', '(40, 60) percentile'))\n",
    "plt.ylabel('Accuracy')\n",
    "plt.xlabel('Number of Neighbors')\n",
    "plt.tight_layout()\n",
    "plt.show()"
   ]
  },
  {
   "cell_type": "markdown",
   "metadata": {},
   "source": [
    "K = 9 give the best results"
   ]
  },
  {
   "cell_type": "code",
   "execution_count": 27,
   "metadata": {},
   "outputs": [],
   "source": [
    "KNN_model = KNeighborsClassifier(n_neighbors = 9).fit(X, y)"
   ]
  },
  {
   "cell_type": "markdown",
   "metadata": {},
   "source": [
    "## Decision Tree"
   ]
  },
  {
   "cell_type": "code",
   "execution_count": 20,
   "metadata": {},
   "outputs": [
    {
     "name": "stdout",
     "output_type": "stream",
     "text": [
      "Depth:  12   2018-10-08 15:02:12.477505\n",
      "Depth:  13   2018-10-08 15:02:22.472386\n",
      "Depth:  14   2018-10-08 15:02:33.055559\n",
      "Depth:  15   2018-10-08 15:02:44.095253\n",
      "Depth:  16   2018-10-08 15:02:55.639814\n",
      "Depth:  17   2018-10-08 15:03:07.639090\n"
     ]
    },
    {
     "data": {
      "image/png": "[encoded data removed]",
      "text/plain": [
       "<Figure size 432x288 with 1 Axes>"
      ]
     },
     "metadata": {
      "needs_background": "light"
     },
     "output_type": "display_data"
    }
   ],
   "source": [
    "# Decision Tree\n",
    "from datetime import datetime\n",
    "from sklearn.tree import DecisionTreeClassifier\n",
    "\n",
    "# Depth of the Secision Trees\n",
    "depths = range(12, 18)\n",
    "\n",
    "# Store the scores\n",
    "scores = np.zeros((len(depths), 3))\n",
    "\n",
    "# Iterate to find the best model\n",
    "for idx, depth in enumerate(depths):\n",
    "    print('Depth: ', depth, ' ', str(datetime.now()))\n",
    "    model = DecisionTreeClassifier(criterion = \"entropy\", max_depth = depth)\n",
    "    scores[idx, : ] = cross_validate(model, n_splits = 10)\n",
    "\n",
    "# Plot the results\n",
    "plt.plot(depths, scores[ : , 1], 'b')\n",
    "plt.fill_between(depths, scores[ : , 0], scores[:, 2], alpha = 0.1)\n",
    "plt.legend(('Median', '(40, 60) percentile'))\n",
    "plt.ylabel('Accuracy')\n",
    "plt.xlabel('Depth')\n",
    "plt.tight_layout()\n",
    "plt.show()"
   ]
  },
  {
   "cell_type": "markdown",
   "metadata": {},
   "source": [
    "Depth = 15 gives the best results"
   ]
  },
  {
   "cell_type": "code",
   "execution_count": 28,
   "metadata": {},
   "outputs": [],
   "source": [
    "Tree_model = DecisionTreeClassifier(criterion = \"entropy\", max_depth = 15).fit(X, y)"
   ]
  },
  {
   "cell_type": "markdown",
   "metadata": {},
   "source": [
    "## Logistic Regression"
   ]
  },
  {
   "cell_type": "code",
   "execution_count": 21,
   "metadata": {},
   "outputs": [
    {
     "name": "stdout",
     "output_type": "stream",
     "text": [
      "C:  0.01   2018-10-08 15:03:59.670515\n",
      "C:  0.03162277660168379   2018-10-08 15:04:06.381485\n",
      "C:  0.1   2018-10-08 15:04:13.146042\n",
      "C:  0.31622776601683794   2018-10-08 15:04:19.914529\n",
      "C:  1.0   2018-10-08 15:04:26.714254\n",
      "C:  3.1622776601683795   2018-10-08 15:04:33.369058\n"
     ]
    },
    {
     "data": {
      "image/png": "[encoded data removed]",
      "text/plain": [
       "<Figure size 432x288 with 1 Axes>"
      ]
     },
     "metadata": {
      "needs_background": "light"
     },
     "output_type": "display_data"
    }
   ],
   "source": [
    "# Logistic Regression\n",
    "\n",
    "from sklearn.linear_model import LogisticRegression\n",
    "\n",
    "C = np.logspace(-2.0, 0.5, num = 6, endpoint = True)\n",
    "\n",
    "scores = np.zeros((len(C), 3))\n",
    "\n",
    "for idx, c in enumerate(C):\n",
    "    print('C: ', c, ' ', str(datetime.now()))\n",
    "    model = LogisticRegression(C = c, solver = 'liblinear')\n",
    "    scores[idx, : ] = cross_validate(model, n_splits = 10)\n",
    "\n",
    "plt.plot(C, scores[ : , 1], 'b')\n",
    "plt.xscale('log')\n",
    "plt.fill_between(C, scores[ : , 0], scores[:, 2], alpha = 0.1)\n",
    "plt.legend(('Median', '(40, 60) percentile'))\n",
    "plt.ylabel('Accuracy')\n",
    "plt.xlabel('C')\n",
    "plt.tight_layout()\n",
    "plt.show()"
   ]
  },
  {
   "cell_type": "code",
   "execution_count": 33,
   "metadata": {},
   "outputs": [],
   "source": [
    "LR_model = LogisticRegression(C = 0.1, solver = 'liblinear').fit(X, y)"
   ]
  },
  {
   "cell_type": "markdown",
   "metadata": {},
   "source": [
    "## Naive Bayes"
   ]
  },
  {
   "cell_type": "code",
   "execution_count": 30,
   "metadata": {},
   "outputs": [
    {
     "name": "stdout",
     "output_type": "stream",
     "text": [
      "Alpha:  0.1   2018-10-09 15:09:00.155736\n",
      "Alpha:  0.2   2018-10-09 15:09:04.409987\n",
      "Alpha:  0.30000000000000004   2018-10-09 15:09:08.654031\n",
      "Alpha:  0.4   2018-10-09 15:09:12.821563\n",
      "Alpha:  0.5   2018-10-09 15:09:16.959580\n",
      "Alpha:  0.6   2018-10-09 15:09:21.133269\n",
      "Alpha:  0.7000000000000001   2018-10-09 15:09:25.282914\n",
      "Alpha:  0.8   2018-10-09 15:09:29.559000\n",
      "Alpha:  0.9   2018-10-09 15:09:33.929067\n",
      "Alpha:  1.0   2018-10-09 15:09:38.198636\n"
     ]
    },
    {
     "data": {
      "image/png": "[encoded data removed]",
      "text/plain": [
       "<Figure size 432x288 with 1 Axes>"
      ]
     },
     "metadata": {
      "needs_background": "light"
     },
     "output_type": "display_data"
    }
   ],
   "source": [
    "# Naive Bayes\n",
    "\n",
    "alpha = np.linspace(0.1, 1, num=10)\n",
    "\n",
    "scores = np.zeros((len(alpha), 3))\n",
    "\n",
    "for idx, a in enumerate(alpha):\n",
    "    print('Alpha: ', a, ' ', str(datetime.now()))\n",
    "    model = BernoulliNB(alpha=a)\n",
    "    scores[idx, : ] = cross_validate(model, n_splits = 10)\n",
    "\n",
    "plt.plot(alpha, scores[ : , 1], 'b')\n",
    "plt.fill_between(alpha, scores[ : , 0], scores[:, 2], alpha = 0.1)\n",
    "plt.legend(('Median', '(40, 60) percentile'))\n",
    "plt.ylabel('Accuracy')\n",
    "plt.xlabel('C')\n",
    "plt.tight_layout()\n",
    "plt.show()"
   ]
  },
  {
   "cell_type": "code",
   "execution_count": 32,
   "metadata": {},
   "outputs": [],
   "source": [
    "NB_model = BernoulliNB(alpha=a).fit(X, y)"
   ]
  },
  {
   "cell_type": "markdown",
   "metadata": {},
   "source": [
    "## Decision Forest using a Random Forest"
   ]
  },
  {
   "cell_type": "code",
   "execution_count": 25,
   "metadata": {},
   "outputs": [
    {
     "name": "stdout",
     "output_type": "stream",
     "text": [
      "Estimator:  20   2018-10-08 15:46:03.008463\n",
      "Estimator:  21   2018-10-08 15:46:39.961439\n",
      "Estimator:  22   2018-10-08 15:47:19.027772\n",
      "Estimator:  23   2018-10-08 15:47:59.712219\n"
     ]
    },
    {
     "data": {
      "image/png": "[encoded data removed]",
      "text/plain": [
       "<Figure size 432x288 with 1 Axes>"
      ]
     },
     "metadata": {
      "needs_background": "light"
     },
     "output_type": "display_data"
    }
   ],
   "source": [
    "\n",
    "\n",
    "est = range(20, 24)\n",
    "scores = np.zeros((len(est), 3))\n",
    "for idx, a in enumerate(est):\n",
    "    print('Estimator: ', a, ' ', str(datetime.now()))\n",
    "    model = RandomForestClassifier(n_estimators = a, max_features = 'sqrt')\n",
    "    scores[idx, : ] = cross_validate(model, n_splits = 10)\n",
    "\n",
    "plt.plot(est, scores[ : , 1], 'b')\n",
    "plt.fill_between(est, scores[ : , 0], scores[:, 2], alpha = 0.1)\n",
    "plt.legend(('Median', '(40, 60) percentile'))\n",
    "plt.ylabel('Accuracy')\n",
    "plt.xlabel('Number of Neighbors')\n",
    "plt.tight_layout()\n",
    "plt.show()"
   ]
  },
  {
   "cell_type": "code",
   "execution_count": 34,
   "metadata": {},
   "outputs": [],
   "source": [
    "Forest_model = RandomForestClassifier(n_estimators = 22, max_features = 'sqrt').fit(X, y)"
   ]
  },
  {
   "cell_type": "markdown",
   "metadata": {},
   "source": [
    "## Determine the best Model"
   ]
  },
  {
   "cell_type": "code",
   "execution_count": 35,
   "metadata": {},
   "outputs": [
    {
     "data": {
      "text/html": [
       "<div>\n",
       "<style scoped>\n",
       "    .dataframe tbody tr th:only-of-type {\n",
       "        vertical-align: middle;\n",
       "    }\n",
       "\n",
       "    .dataframe tbody tr th {\n",
       "        vertical-align: top;\n",
       "    }\n",
       "\n",
       "    .dataframe thead th {\n",
       "        text-align: right;\n",
       "    }\n",
       "</style>\n",
       "<table border=\"1\" class=\"dataframe\">\n",
       "  <thead>\n",
       "    <tr style=\"text-align: right;\">\n",
       "      <th></th>\n",
       "      <th>F1-Score</th>\n",
       "      <th>Jaccard</th>\n",
       "      <th>LogLoss</th>\n",
       "    </tr>\n",
       "    <tr>\n",
       "      <th>Algorithm</th>\n",
       "      <th></th>\n",
       "      <th></th>\n",
       "      <th></th>\n",
       "    </tr>\n",
       "  </thead>\n",
       "  <tbody>\n",
       "    <tr>\n",
       "      <th>KNN</th>\n",
       "      <td>0.735110</td>\n",
       "      <td>0.700167</td>\n",
       "      <td>10.355988</td>\n",
       "    </tr>\n",
       "    <tr>\n",
       "      <th>Decision Tree</th>\n",
       "      <td>0.739844</td>\n",
       "      <td>0.722507</td>\n",
       "      <td>9.584343</td>\n",
       "    </tr>\n",
       "    <tr>\n",
       "      <th>Bernoulli Naive Bayes</th>\n",
       "      <td>0.670262</td>\n",
       "      <td>0.610028</td>\n",
       "      <td>13.469334</td>\n",
       "    </tr>\n",
       "    <tr>\n",
       "      <th>Logistic Regression</th>\n",
       "      <td>0.692493</td>\n",
       "      <td>0.618332</td>\n",
       "      <td>13.182555</td>\n",
       "    </tr>\n",
       "    <tr>\n",
       "      <th>Random Forest</th>\n",
       "      <td>0.996330</td>\n",
       "      <td>0.995866</td>\n",
       "      <td>0.142790</td>\n",
       "    </tr>\n",
       "  </tbody>\n",
       "</table>\n",
       "</div>"
      ],
      "text/plain": [
       "                       F1-Score   Jaccard    LogLoss\n",
       "Algorithm                                           \n",
       "KNN                    0.735110  0.700167  10.355988\n",
       "Decision Tree          0.739844  0.722507   9.584343\n",
       "Bernoulli Naive Bayes  0.670262  0.610028  13.469334\n",
       "Logistic Regression    0.692493  0.618332  13.182555\n",
       "Random Forest          0.996330  0.995866   0.142790"
      ]
     },
     "execution_count": 35,
     "metadata": {},
     "output_type": "execute_result"
    }
   ],
   "source": [
    "# Function to iterate over each of the models to get their scores\n",
    "def get_scores(model):\n",
    "\n",
    "    # predict\n",
    "    yhat = model.predict(X)\n",
    "    \n",
    "    jaccard = metrics.jaccard_similarity_score(y, yhat)\n",
    "    f1 = metrics.f1_score(y, yhat, pos_label = 'THEFT')\n",
    "    logloss = metrics.log_loss(y == 'THEFT', yhat == 'THEFT')\n",
    "        \n",
    "    return {'Jaccard' : jaccard, 'F1-Score' : f1, 'LogLoss' : logloss}\n",
    "\n",
    "# Empty Results List    \n",
    "results = []\n",
    "\n",
    "# The Models\n",
    "models = [[KNN_model, 'KNN'], \n",
    "          [Tree_model, 'Decision Tree'], \n",
    "          [NB_model, 'Bernoulli Naive Bayes'], \n",
    "          [LR_model, 'Logistic Regression'],\n",
    "          [Forest_model, 'Random Forest']]\n",
    "\n",
    "# Iterate over each of the models\n",
    "for model, algorithm in models:\n",
    "    \n",
    "    scores = get_scores(model)\n",
    "    scores['Algorithm'] = algorithm\n",
    "    results.append(scores)\n",
    "\n",
    "# Format the results and display them.\n",
    "results = pd.DataFrame(results)\n",
    "results.set_index('Algorithm', inplace = True)\n",
    "\n",
    "results"
   ]
  },
  {
   "cell_type": "code",
   "execution_count": 36,
   "metadata": {},
   "outputs": [],
   "source": [
    "results.to_pickle('./capstone_pickles/results.pkl')"
   ]
  },
  {
   "cell_type": "markdown",
   "metadata": {},
   "source": [
    "# Best Model\n",
    "\n",
    "Ramdom Forest is the best model scoring highest in all measurements, F1-Score, Jaccard and Log Loss. Let's now create a new model. The September crime data will become the unseen test data for the final model."
   ]
  },
  {
   "cell_type": "code",
   "execution_count": 5,
   "metadata": {},
   "outputs": [],
   "source": [
    "# Import the Pickle of the Crimes DataFrame\n",
    "df_crimes = pd.read_pickle('./capstone_pickles/crimes.pkl')\n",
    "df_crimes.drop('index', inplace=True, axis=1)"
   ]
  },
  {
   "cell_type": "markdown",
   "metadata": {},
   "source": [
    "### Recreate the Features DataFrame\n",
    "\n",
    "Recreate the Features DataFrame but this time use all of the data."
   ]
  },
  {
   "cell_type": "code",
   "execution_count": 6,
   "metadata": {},
   "outputs": [],
   "source": [
    "# Start by copying the Latitude and Longitude to the new DataFrame\n",
    "df_features = df_crimes[['latitude', 'longitude']]\n",
    "\n",
    "# Next and One Hot Encoding of the hour, day and month variables\n",
    "df_features = df_features.join(pd.get_dummies(df_crimes.hour, prefix='hour'))\n",
    "df_features = df_features.join(pd.get_dummies(df_crimes.day_name))\n",
    "df_features = df_features.join(pd.get_dummies(df_crimes.month_name))\n",
    "\n",
    "# Finally add the ward & crimes column, copied from the original Primary Description column\n",
    "df_features['ward'] = df_crimes[['ward']]\n",
    "df_features['crimes'] = df_crimes[['primary_description']]\n",
    "\n",
    "# Create a list of the 2 most commonly occuring crimes\n",
    "top_two_crimes = df_features[['crimes', 'ward']].groupby(\n",
    "    ['crimes']).count().sort_values('ward', ascending=False)[:2].axes[0].tolist()\n",
    "\n",
    "# Create a smaller DataFrame of only the top two crimes\n",
    "df_features = df_features[df_features['crimes'].isin(top_two_crimes)].copy()"
   ]
  },
  {
   "cell_type": "code",
   "execution_count": 7,
   "metadata": {},
   "outputs": [
    {
     "data": {
      "text/html": [
       "<div>\n",
       "<style scoped>\n",
       "    .dataframe tbody tr th:only-of-type {\n",
       "        vertical-align: middle;\n",
       "    }\n",
       "\n",
       "    .dataframe tbody tr th {\n",
       "        vertical-align: top;\n",
       "    }\n",
       "\n",
       "    .dataframe thead th {\n",
       "        text-align: right;\n",
       "    }\n",
       "</style>\n",
       "<table border=\"1\" class=\"dataframe\">\n",
       "  <thead>\n",
       "    <tr style=\"text-align: right;\">\n",
       "      <th></th>\n",
       "      <th>latitude</th>\n",
       "      <th>longitude</th>\n",
       "      <th>hour_0</th>\n",
       "      <th>hour_1</th>\n",
       "      <th>hour_2</th>\n",
       "      <th>hour_3</th>\n",
       "      <th>hour_4</th>\n",
       "      <th>hour_5</th>\n",
       "      <th>hour_6</th>\n",
       "      <th>hour_7</th>\n",
       "      <th>...</th>\n",
       "      <th>January</th>\n",
       "      <th>July</th>\n",
       "      <th>June</th>\n",
       "      <th>March</th>\n",
       "      <th>May</th>\n",
       "      <th>November</th>\n",
       "      <th>October</th>\n",
       "      <th>September</th>\n",
       "      <th>ward</th>\n",
       "      <th>crimes</th>\n",
       "    </tr>\n",
       "  </thead>\n",
       "  <tbody>\n",
       "    <tr>\n",
       "      <th>2</th>\n",
       "      <td>41.780946</td>\n",
       "      <td>-87.621995</td>\n",
       "      <td>0</td>\n",
       "      <td>0</td>\n",
       "      <td>0</td>\n",
       "      <td>0</td>\n",
       "      <td>0</td>\n",
       "      <td>0</td>\n",
       "      <td>0</td>\n",
       "      <td>0</td>\n",
       "      <td>...</td>\n",
       "      <td>0</td>\n",
       "      <td>0</td>\n",
       "      <td>0</td>\n",
       "      <td>0</td>\n",
       "      <td>0</td>\n",
       "      <td>0</td>\n",
       "      <td>0</td>\n",
       "      <td>0</td>\n",
       "      <td>20.0</td>\n",
       "      <td>THEFT</td>\n",
       "    </tr>\n",
       "    <tr>\n",
       "      <th>3</th>\n",
       "      <td>41.965404</td>\n",
       "      <td>-87.736202</td>\n",
       "      <td>0</td>\n",
       "      <td>0</td>\n",
       "      <td>0</td>\n",
       "      <td>0</td>\n",
       "      <td>0</td>\n",
       "      <td>0</td>\n",
       "      <td>0</td>\n",
       "      <td>0</td>\n",
       "      <td>...</td>\n",
       "      <td>0</td>\n",
       "      <td>0</td>\n",
       "      <td>0</td>\n",
       "      <td>0</td>\n",
       "      <td>0</td>\n",
       "      <td>0</td>\n",
       "      <td>0</td>\n",
       "      <td>0</td>\n",
       "      <td>39.0</td>\n",
       "      <td>THEFT</td>\n",
       "    </tr>\n",
       "    <tr>\n",
       "      <th>7</th>\n",
       "      <td>41.895946</td>\n",
       "      <td>-87.629760</td>\n",
       "      <td>0</td>\n",
       "      <td>0</td>\n",
       "      <td>0</td>\n",
       "      <td>0</td>\n",
       "      <td>0</td>\n",
       "      <td>0</td>\n",
       "      <td>0</td>\n",
       "      <td>0</td>\n",
       "      <td>...</td>\n",
       "      <td>0</td>\n",
       "      <td>0</td>\n",
       "      <td>0</td>\n",
       "      <td>0</td>\n",
       "      <td>0</td>\n",
       "      <td>0</td>\n",
       "      <td>0</td>\n",
       "      <td>0</td>\n",
       "      <td>42.0</td>\n",
       "      <td>BATTERY</td>\n",
       "    </tr>\n",
       "    <tr>\n",
       "      <th>9</th>\n",
       "      <td>41.867081</td>\n",
       "      <td>-87.619004</td>\n",
       "      <td>0</td>\n",
       "      <td>0</td>\n",
       "      <td>0</td>\n",
       "      <td>0</td>\n",
       "      <td>0</td>\n",
       "      <td>0</td>\n",
       "      <td>0</td>\n",
       "      <td>0</td>\n",
       "      <td>...</td>\n",
       "      <td>0</td>\n",
       "      <td>0</td>\n",
       "      <td>0</td>\n",
       "      <td>0</td>\n",
       "      <td>0</td>\n",
       "      <td>0</td>\n",
       "      <td>0</td>\n",
       "      <td>0</td>\n",
       "      <td>2.0</td>\n",
       "      <td>THEFT</td>\n",
       "    </tr>\n",
       "    <tr>\n",
       "      <th>11</th>\n",
       "      <td>41.769917</td>\n",
       "      <td>-87.663955</td>\n",
       "      <td>0</td>\n",
       "      <td>0</td>\n",
       "      <td>0</td>\n",
       "      <td>0</td>\n",
       "      <td>0</td>\n",
       "      <td>0</td>\n",
       "      <td>0</td>\n",
       "      <td>0</td>\n",
       "      <td>...</td>\n",
       "      <td>0</td>\n",
       "      <td>0</td>\n",
       "      <td>0</td>\n",
       "      <td>0</td>\n",
       "      <td>0</td>\n",
       "      <td>0</td>\n",
       "      <td>0</td>\n",
       "      <td>0</td>\n",
       "      <td>17.0</td>\n",
       "      <td>THEFT</td>\n",
       "    </tr>\n",
       "  </tbody>\n",
       "</table>\n",
       "<p>5 rows × 47 columns</p>\n",
       "</div>"
      ],
      "text/plain": [
       "     latitude  longitude  hour_0  hour_1  hour_2  hour_3  hour_4  hour_5  \\\n",
       "2   41.780946 -87.621995       0       0       0       0       0       0   \n",
       "3   41.965404 -87.736202       0       0       0       0       0       0   \n",
       "7   41.895946 -87.629760       0       0       0       0       0       0   \n",
       "9   41.867081 -87.619004       0       0       0       0       0       0   \n",
       "11  41.769917 -87.663955       0       0       0       0       0       0   \n",
       "\n",
       "    hour_6  hour_7   ...     January  July  June  March  May  November  \\\n",
       "2        0       0   ...           0     0     0      0    0         0   \n",
       "3        0       0   ...           0     0     0      0    0         0   \n",
       "7        0       0   ...           0     0     0      0    0         0   \n",
       "9        0       0   ...           0     0     0      0    0         0   \n",
       "11       0       0   ...           0     0     0      0    0         0   \n",
       "\n",
       "    October  September  ward   crimes  \n",
       "2         0          0  20.0    THEFT  \n",
       "3         0          0  39.0    THEFT  \n",
       "7         0          0  42.0  BATTERY  \n",
       "9         0          0   2.0    THEFT  \n",
       "11        0          0  17.0    THEFT  \n",
       "\n",
       "[5 rows x 47 columns]"
      ]
     },
     "execution_count": 7,
     "metadata": {},
     "output_type": "execute_result"
    }
   ],
   "source": [
    "# Looking at the head of the features dataframe we can see the encoded labels\n",
    "df_features.head()"
   ]
  },
  {
   "cell_type": "code",
   "execution_count": 8,
   "metadata": {},
   "outputs": [
    {
     "data": {
      "text/plain": [
       "latitude     float64\n",
       "longitude    float64\n",
       "hour_0         uint8\n",
       "hour_1         uint8\n",
       "hour_2         uint8\n",
       "hour_3         uint8\n",
       "hour_4         uint8\n",
       "hour_5         uint8\n",
       "hour_6         uint8\n",
       "hour_7         uint8\n",
       "hour_8         uint8\n",
       "hour_9         uint8\n",
       "hour_10        uint8\n",
       "hour_11        uint8\n",
       "hour_12        uint8\n",
       "hour_13        uint8\n",
       "hour_14        uint8\n",
       "hour_15        uint8\n",
       "hour_16        uint8\n",
       "hour_17        uint8\n",
       "hour_18        uint8\n",
       "hour_19        uint8\n",
       "hour_20        uint8\n",
       "hour_21        uint8\n",
       "hour_22        uint8\n",
       "hour_23        uint8\n",
       "Friday         uint8\n",
       "Monday         uint8\n",
       "Saturday       uint8\n",
       "Sunday         uint8\n",
       "Thursday       uint8\n",
       "Tuesday        uint8\n",
       "Wednesday      uint8\n",
       "April          uint8\n",
       "August         uint8\n",
       "December       uint8\n",
       "February       uint8\n",
       "January        uint8\n",
       "July           uint8\n",
       "June           uint8\n",
       "March          uint8\n",
       "May            uint8\n",
       "November       uint8\n",
       "October        uint8\n",
       "September      uint8\n",
       "ward         float64\n",
       "crimes        object\n",
       "dtype: object"
      ]
     },
     "execution_count": 8,
     "metadata": {},
     "output_type": "execute_result"
    }
   ],
   "source": [
    "df_features.dtypes"
   ]
  },
  {
   "cell_type": "markdown",
   "metadata": {},
   "source": [
    "### Create the Test Datasets"
   ]
  },
  {
   "cell_type": "code",
   "execution_count": 9,
   "metadata": {},
   "outputs": [],
   "source": [
    "X_Train = df_features[df_features.September == 0].copy()\n",
    "X_Train.drop('crimes', axis=1, inplace=True)\n",
    "\n",
    "# Normalise df_features\n",
    "X_Train = preprocessing.StandardScaler().fit(X_Train).transform(X_Train)\n",
    "\n",
    "y_Train = df_features.crimes[df_features.September == 0].values"
   ]
  },
  {
   "cell_type": "markdown",
   "metadata": {},
   "source": [
    "### Create the Train Datasets"
   ]
  },
  {
   "cell_type": "code",
   "execution_count": 10,
   "metadata": {},
   "outputs": [],
   "source": [
    "X_Test = df_features[df_features.September == 1].copy()\n",
    "X_Test.drop('crimes', axis=1, inplace=True)\n",
    "\n",
    "# Normalise df_features\n",
    "X_Test = preprocessing.StandardScaler().fit(X_Test).transform(X_Test)\n",
    "\n",
    "y_Test = df_features.crimes[df_features.September == 1].values"
   ]
  },
  {
   "cell_type": "markdown",
   "metadata": {},
   "source": [
    "### Recreate the Random Forest Model"
   ]
  },
  {
   "cell_type": "code",
   "execution_count": 11,
   "metadata": {},
   "outputs": [],
   "source": [
    "Forest_model_final = RandomForestClassifier(n_estimators = 22, max_features = 'sqrt').fit(X_Train, y_Train)"
   ]
  },
  {
   "cell_type": "markdown",
   "metadata": {},
   "source": [
    "### Predict the Final Performance of the Model"
   ]
  },
  {
   "cell_type": "code",
   "execution_count": 12,
   "metadata": {},
   "outputs": [
    {
     "name": "stdout",
     "output_type": "stream",
     "text": [
      "Jaccard Score 0.6462361168243521\n",
      "F1-Score of each class [0.60997732 0.67632668]\n"
     ]
    }
   ],
   "source": [
    "# Predict yhat using X_Test\n",
    "yhat = Forest_model_final.predict(X_Test)\n",
    "    \n",
    "# Measure the Jaccard Score of the final Model\n",
    "jaccard_final = metrics.jaccard_similarity_score(y_Test, yhat)\n",
    "print('Jaccard Score', jaccard_final)\n",
    "    \n",
    "f1 = metrics.f1_score(y_Test, yhat, average=None)\n",
    "print('F1-Score of each class', f1)"
   ]
  },
  {
   "cell_type": "markdown",
   "metadata": {},
   "source": [
    "### What are the important Features"
   ]
  },
  {
   "cell_type": "code",
   "execution_count": 50,
   "metadata": {},
   "outputs": [],
   "source": [
    "importances = Forest_model_final.feature_importances_"
   ]
  },
  {
   "cell_type": "code",
   "execution_count": 51,
   "metadata": {},
   "outputs": [
    {
     "name": "stdout",
     "output_type": "stream",
     "text": [
      "Feature ranking:\n",
      "1. feature 0 (0.270578)\n",
      "2. feature 1 (0.257083)\n",
      "3. feature 45 (0.135026)\n",
      "4. feature 38 (0.012409)\n",
      "5. feature 39 (0.012210)\n",
      "6. feature 43 (0.011945)\n",
      "7. feature 34 (0.011605)\n",
      "8. feature 32 (0.011600)\n",
      "9. feature 41 (0.011550)\n",
      "10. feature 37 (0.011341)\n",
      "11. feature 35 (0.011297)\n",
      "12. feature 33 (0.011281)\n",
      "13. feature 42 (0.011142)\n",
      "14. feature 27 (0.011131)\n",
      "15. feature 40 (0.010956)\n",
      "16. feature 26 (0.010851)\n",
      "17. feature 31 (0.010674)\n",
      "18. feature 36 (0.010229)\n",
      "19. feature 30 (0.009635)\n",
      "20. feature 28 (0.009506)\n",
      "21. feature 22 (0.007572)\n",
      "22. feature 21 (0.007467)\n",
      "23. feature 17 (0.007459)\n",
      "24. feature 18 (0.007419)\n",
      "25. feature 13 (0.007348)\n",
      "26. feature 20 (0.007181)\n",
      "27. feature 29 (0.007044)\n",
      "28. feature 12 (0.006466)\n",
      "29. feature 19 (0.006462)\n",
      "30. feature 10 (0.006285)\n",
      "31. feature 15 (0.006075)\n",
      "32. feature 11 (0.006021)\n",
      "33. feature 14 (0.005659)\n",
      "34. feature 23 (0.005629)\n",
      "35. feature 2 (0.005477)\n",
      "36. feature 24 (0.005451)\n",
      "37. feature 4 (0.005414)\n",
      "38. feature 3 (0.005178)\n",
      "39. feature 5 (0.005135)\n",
      "40. feature 16 (0.005096)\n",
      "41. feature 25 (0.004974)\n",
      "42. feature 9 (0.004884)\n",
      "43. feature 8 (0.004425)\n",
      "44. feature 6 (0.004233)\n",
      "45. feature 7 (0.003595)\n",
      "46. feature 44 (0.000000)\n"
     ]
    },
    {
     "data": {
      "image/png": "[encoded data removed]",
      "text/plain": [
       "<Figure size 1080x432 with 1 Axes>"
      ]
     },
     "metadata": {
      "needs_background": "light"
     },
     "output_type": "display_data"
    }
   ],
   "source": [
    "std = np.std([tree.feature_importances_ for tree in Forest_model_final.estimators_],\n",
    "             axis=0)\n",
    "\n",
    "indices = np.argsort(importances)[::-1]\n",
    "\n",
    "# Print the feature ranking\n",
    "print(\"Feature ranking:\")\n",
    "\n",
    "for f in range(X_Train.shape[1]):\n",
    "    print(\"%d. feature %d (%f)\" % (f + 1, indices[f], importances[indices[f]]))\n",
    "\n",
    "# Plot the feature importances of the forest\n",
    "plt.figure(figsize=(15, 6))\n",
    "plt.title(\"Feature importances\")\n",
    "plt.bar(range(X_Train.shape[1]), importances[indices],\n",
    "       color=\"r\", yerr=std[indices], align=\"center\")\n",
    "plt.xticks(range(X_Train.shape[1]), indices)\n",
    "plt.xlim([-1, X_Train.shape[1]])\n",
    "plt.show()"
   ]
  },
  {
   "cell_type": "markdown",
   "metadata": {},
   "source": [
    "This shows that the most predictive models are:\n",
    "\n",
    "1. Latitude\n",
    "1. Longitude\n",
    "1. Ward\n",
    "\n",
    "The other features, particulraly the hour the crime took place, are less predictive."
   ]
  },
  {
   "cell_type": "code",
   "execution_count": 16,
   "metadata": {},
   "outputs": [],
   "source": [
    "Tree_model = DecisionTreeClassifier(criterion = \"entropy\", max_depth = 15).fit(X_Train, y_Train)"
   ]
  },
  {
   "cell_type": "code",
   "execution_count": 17,
   "metadata": {},
   "outputs": [
    {
     "name": "stdout",
     "output_type": "stream",
     "text": [
      "Jaccard Score 0.6462361168243521\n",
      "F1-Score of each class [0.60997732 0.67632668]\n"
     ]
    }
   ],
   "source": [
    "# Predict yhat using X_Test\n",
    "yhat_dt = Forest_model_final.predict(X_Test)\n",
    "    \n",
    "# Measure the Jaccard Score of the final Model\n",
    "jaccard_final = metrics.jaccard_similarity_score(y_Test, yhat_dt)\n",
    "print('Jaccard Score', jaccard_final)\n",
    "    \n",
    "f1 = metrics.f1_score(y_Test, yhat_dt, average=None)\n",
    "print('F1-Score of each class', f1)"
   ]
  },
  {
   "cell_type": "code",
   "execution_count": null,
   "metadata": {},
   "outputs": [],
   "source": []
  }
 ],
 "metadata": {
  "kernelspec": {
   "display_name": "Python [conda root]",
   "language": "python",
   "name": "conda-root-py"
  },
  "language_info": {
   "codemirror_mode": {
    "name": "ipython",
    "version": 3
   },
   "file_extension": ".py",
   "mimetype": "text/x-python",
   "name": "python",
   "nbconvert_exporter": "python",
   "pygments_lexer": "ipython3",
   "version": "3.5.6"
  }
 },
 "nbformat": 4,
 "nbformat_minor": 2
}
