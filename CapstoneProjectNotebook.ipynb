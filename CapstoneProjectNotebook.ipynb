{
 "cells": [
  {
   "cell_type": "markdown",
   "metadata": {},
   "source": [
    "# Capstone Project Notebook\n",
    "## Assignment 1:\n",
    "\n",
    "Create a new repository on your Github account and name it Coursera_Capstone.\n",
    "\n",
    "Now, start a Jupyter Notebook using any platform that you are comfortable with and do the following:\n",
    "\n",
    "1. Write some markdown to explain that this notebook will be mainly used for the capstone project.\n",
    "1. Import the pandas library as pd.\n",
    "1. Import the Numpy library as np.\n",
    "1. Print the following the statement: Hello Capstone Project Course!\n",
    "\n",
    "Push the Notebook to your Github repository and submit a link to the notebook on your Github repository."
   ]
  },
  {
   "cell_type": "code",
   "execution_count": 2,
   "metadata": {},
   "outputs": [
    {
     "name": "stdout",
     "output_type": "stream",
     "text": [
      "Hello Capstone Project Course!\n"
     ]
    }
   ],
   "source": [
    "# Import Pandas as pd\n",
    "import pandas as pd\n",
    "\n",
    "# Import Numpy as np\n",
    "import numpy as np\n",
    "\n",
    "# Print \"Hello Capstone Project Course!\"\n",
    "print('Hello Capstone Project Course!')"
   ]
  }
 ],
 "metadata": {
  "kernelspec": {
   "display_name": "Python [conda root]",
   "language": "python",
   "name": "conda-root-py"
  },
  "language_info": {
   "codemirror_mode": {
    "name": "ipython",
    "version": 3
   },
   "file_extension": ".py",
   "mimetype": "text/x-python",
   "name": "python",
   "nbconvert_exporter": "python",
   "pygments_lexer": "ipython3",
   "version": "3.5.4"
  }
 },
 "nbformat": 4,
 "nbformat_minor": 2
}
