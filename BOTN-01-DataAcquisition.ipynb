{
 "cells": [
  {
   "cell_type": "markdown",
   "metadata": {},
   "source": [
    "# Data Acquistion\n",
    "\n",
    "The first phase of the project is to acquire all of the data that is needed for this project. The initial data required can be broken down into three separate data sets:\n",
    "\n",
    "1. The FourSquare Top 30 Venues to Visit in Chicago\n",
    "1. For each of the Top Site get a list of up restaurants in the surrounding area\n",
    "1. The Chicago Police Department Crime Data for the last Year"
   ]
  },
  {
   "cell_type": "markdown",
   "metadata": {},
   "source": [
    "---\n",
    "\n",
    "# Import Libraries\n",
    "\n",
    "In this section we import the libraries that will be required to process the data.\n",
    "\n",
    "The first library is **Pandas**.  \n",
    "Pandas is an open source, BSD-licensed library, providing high-performance, easy-to-use data structures and data analysis tools for the Python programming language. Pandas will be used to house each of the data sets.\n",
    "\n",
    "The second library is **Requests**.\n",
    "Requests is a Python HTTP library, released under the Apache2 License. The goal of the project is to make HTTP requests simpler and more human-friendly.\n",
    "\n",
    "The next library in **BeautifulSoup**\n",
    "Beautiful Soup is a Python package for parsing HTML and XML documents. It creates a parse tree for parsed pages that can be used to extract data from HTML, which is useful for web scraping."
   ]
  },
  {
   "cell_type": "code",
   "execution_count": 1,
   "metadata": {},
   "outputs": [],
   "source": [
    "# Import Pandas to provide DataFrame support\n",
    "import pandas as pd\n",
    "pd.set_option('display.max_columns', None)\n",
    "pd.set_option('display.max_rows', None)\n",
    "\n",
    "# Import Requests\n",
    "import requests\n",
    "\n",
    "# Import BeautifulSoup\n",
    "from bs4 import BeautifulSoup"
   ]
  },
  {
   "cell_type": "code",
   "execution_count": 2,
   "metadata": {},
   "outputs": [],
   "source": [
    "# Yaml is used to store some of the required configurations\n",
    "import yaml\n",
    "\n",
    "with open(\"./capstone_data/config.yaml\", \"r\") as f:\n",
    "    cfg = yaml.load(f)\n",
    " \n",
    "search_params = {\n",
    "    'client_id': cfg['client_id'],\n",
    "    'client_secret': cfg['client_secret'],\n",
    "    'intent': 'browse',\n",
    "    'limit': 50,\n",
    "    'v': cfg['version']\n",
    "}"
   ]
  },
  {
   "cell_type": "markdown",
   "metadata": {},
   "source": [
    "---"
   ]
  },
  {
   "cell_type": "markdown",
   "metadata": {},
   "source": [
    "## FourSquare Top 30 Venues to Visit in Chicago\n",
    "\n",
    "FourSquare does not actually provide an API that will return a list of the top venues to visit in a city. To get this list we can though use the FourSquare website directly to request the top sites in Chicago and then use BeautifulSoup to scrape the data we need. Once we have this starting data the other supplemental data we need to complete this dataset can be retrieved from using the FourSquare Venue API."
   ]
  },
  {
   "cell_type": "code",
   "execution_count": 3,
   "metadata": {},
   "outputs": [],
   "source": [
    "# Use the Requests get method to request the top sites in Chicago\n",
    "page = requests.get(\n",
    "    \"https://foursquare.com/explore?mode=url&near=Chicago%2C%20IL%2C%20United%20States&nearGeoId=72057594042815334&q=Top%20Picks\")\n",
    "\n",
    "# Convert the HTML response into a BeautifulSoup Object\n",
    "soup = BeautifulSoup(page.content, 'html.parser')\n",
    "\n",
    "# Use the BeautifulSoup find_all method to extract each top site venue details.\n",
    "top_venues = soup.find_all('div', class_='venueDetails')"
   ]
  },
  {
   "cell_type": "markdown",
   "metadata": {},
   "source": [
    "A sample venue is is extracted from the `top_venues` list, formatted and shown below:\n",
    "\n",
    "~~~~\n",
    "<div class=\"venueDetails\">\n",
    "  <div class=\"venueName\">\n",
    "    <h2>\n",
    "  <a href=\"/v/millennium-park/42b75880f964a52090251fe3\" target=\"_blank\">Millennium Park\n",
    "  </a>\n",
    "</h2>\n",
    "  </div>\n",
    "  <div class=\"venueMeta\">\n",
    "    <div class=\"venueScore positive\" \n",
    "         style=\"background-color: #00B551;\" \n",
    "         title=\"9.7/10 - People like this place\">9.7</div>\n",
    "    <div class=\"venueAddressData\">\n",
    "      <div class=\"venueAddress\">201 E Randolph St (btwn Columbus Dr &amp; Michigan Ave), Chicago</div>\n",
    "      <div class=\"venueData\">\n",
    "        <span class=\"venueDataItem\">\n",
    "          <span class=\"categoryName\">Park</span>\n",
    "          <span class=\"delim\"> • </span>\n",
    "        </span>\n",
    "      </div>\n",
    "    </div>\n",
    "  </div>\n",
    "</div>\n",
    "~~~~\n",
    "\n",
    "From this HTML the following data will be extracted:\n",
    "\n",
    "* Venue Name\n",
    "* Venue Score\n",
    "* Venue Category \n",
    "* Venue HREF\n",
    "* Venue ID (Extracted from the HREF)\n"
   ]
  },
  {
   "cell_type": "markdown",
   "metadata": {},
   "source": [
    "### Create Top Venues Dataframe\n",
    "\n",
    "The `top_venues` list, a sample of which is shown above, only contains some of the data required. In addition to the attributes extracted directly from the HTML code the following attributes are also required:\n",
    "* Venue Address\n",
    "* Venue Postalcode\n",
    "* Venue City\n",
    "* Venue Latitude\n",
    "* Venue Longitude\n",
    "\n",
    "These attributes will be obtained directly from FourSquare using the `venues` API. The process is as follows:\n",
    "1. Create a new empty Pandas dataframe to hold the data for the Top Sites / Venues\n",
    "1. Extract the available attributes from the HTML code\n",
    "1. For each venue\n",
    "    1. Contruct a URL to interagate the FourSquare Venue API for each top site\n",
    "    1. Using the `venues` API and the URL request the data from FourSquare\n",
    "    1. Get the properly formatted address and the latitude and longitude data from the returned JSON\n",
    "    1. Write the data for each venue to the top venues dataframs"
   ]
  },
  {
   "cell_type": "code",
   "execution_count": 4,
   "metadata": {},
   "outputs": [],
   "source": [
    "# The column names for the top venues dataframe\n",
    "venue_columns = ['id', \n",
    "                 'score', \n",
    "                 'category', \n",
    "                 'name', \n",
    "                 'address',\n",
    "                 'postalcode',\n",
    "                 'city',\n",
    "                 'href', \n",
    "                 'latitude', \n",
    "                 'longitude']\n",
    "\n",
    "# Create the empty top venues dataframe\n",
    "df_top_venues = pd.DataFrame(columns=venue_columns)\n",
    "\n",
    "# For each venue in the BeautifulSoup HTML object\n",
    "for venue in top_venues:\n",
    "    \n",
    "    # Extract the available attributes\n",
    "    venue_name = venue.find(target=\"_blank\").get_text()\n",
    "    venue_score = venue.find(class_=\"venueScore positive\").get_text()\n",
    "    venue_cat = venue.find(class_=\"categoryName\").get_text()\n",
    "    venue_href = venue.find(class_=\"venueName\").h2.a['href']\n",
    "    venue_id = venue_href.split('/')[-1]\n",
    "\n",
    "    if 'promotedTipId' in venue_id: \n",
    "        continue\n",
    "        \n",
    "    # Contruct the FourSquare venue API URL\n",
    "    url = 'https://api.foursquare.com/v2/venues/{}?client_id={}&client_secret={}&v={}'.format(\n",
    "        venue_id, \n",
    "        cfg['client_id'],\n",
    "        cfg['client_secret'],\n",
    "        cfg['version'])\n",
    "    \n",
    "    # Request the venue data\n",
    "    result = requests.get(url).json()\n",
    "        \n",
    "    # Get the properly formatted address and the latitude and longitude\n",
    "    venue_address = result['response']['venue']['location']['address']\n",
    "    venue_postalcode = result['response']['venue']['location']['postalCode']\n",
    "    venue_city = result['response']['venue']['location']['city']\n",
    "    venue_latitude = result['response']['venue']['location']['lat']\n",
    "    venue_longitude = result['response']['venue']['location']['lng']\n",
    "    \n",
    "    # Add the venue to the top venues dataframe\n",
    "    df_top_venues = df_top_venues.append({'id': venue_id,\n",
    "                                          'score': venue_score,\n",
    "                                          'category': venue_cat,\n",
    "                                          'name': venue_name,\n",
    "                                          'address': venue_address,\n",
    "                                          'postalcode': venue_postalcode,\n",
    "                                          'city': venue_city,\n",
    "                                          'href': venue_href,\n",
    "                                          'latitude': venue_latitude,\n",
    "                                          'longitude': venue_longitude}, ignore_index=True)\n"
   ]
  },
  {
   "cell_type": "code",
   "execution_count": 5,
   "metadata": {},
   "outputs": [
    {
     "data": {
      "text/plain": [
       "(30, 10)"
      ]
     },
     "execution_count": 5,
     "metadata": {},
     "output_type": "execute_result"
    }
   ],
   "source": [
    "# Verify the shape of the top venues dataframe\n",
    "df_top_venues.shape"
   ]
  },
  {
   "cell_type": "code",
   "execution_count": 6,
   "metadata": {},
   "outputs": [
    {
     "data": {
      "text/plain": [
       "id             object\n",
       "score          object\n",
       "category       object\n",
       "name           object\n",
       "address        object\n",
       "postalcode     object\n",
       "city           object\n",
       "href           object\n",
       "latitude      float64\n",
       "longitude     float64\n",
       "dtype: object"
      ]
     },
     "execution_count": 6,
     "metadata": {},
     "output_type": "execute_result"
    }
   ],
   "source": [
    "# Verify the dtypes of the top venues dataframe\n",
    "df_top_venues.dtypes"
   ]
  },
  {
   "cell_type": "code",
   "execution_count": 7,
   "metadata": {},
   "outputs": [
    {
     "data": {
      "text/plain": [
       "count    30.000000\n",
       "mean      9.526667\n",
       "std       0.073968\n",
       "min       9.400000\n",
       "25%       9.500000\n",
       "50%       9.500000\n",
       "75%       9.600000\n",
       "max       9.700000\n",
       "Name: score, dtype: float64"
      ]
     },
     "execution_count": 7,
     "metadata": {},
     "output_type": "execute_result"
    }
   ],
   "source": [
    "# The score type needs to be converted to float\n",
    "df_top_venues['score'] = pd.to_numeric(df_top_venues['score'], errors='coerce').fillna(0)\n",
    "\n",
    "# Describe the score to see if there is nuch variance in the values\n",
    "df_top_venues.score.describe()"
   ]
  },
  {
   "cell_type": "code",
   "execution_count": 8,
   "metadata": {},
   "outputs": [
    {
     "data": {
      "text/html": [
       "<div>\n",
       "<style scoped>\n",
       "    .dataframe tbody tr th:only-of-type {\n",
       "        vertical-align: middle;\n",
       "    }\n",
       "\n",
       "    .dataframe tbody tr th {\n",
       "        vertical-align: top;\n",
       "    }\n",
       "\n",
       "    .dataframe thead th {\n",
       "        text-align: right;\n",
       "    }\n",
       "</style>\n",
       "<table border=\"1\" class=\"dataframe\">\n",
       "  <thead>\n",
       "    <tr style=\"text-align: right;\">\n",
       "      <th></th>\n",
       "      <th>id</th>\n",
       "      <th>score</th>\n",
       "      <th>category</th>\n",
       "      <th>name</th>\n",
       "      <th>address</th>\n",
       "      <th>postalcode</th>\n",
       "      <th>city</th>\n",
       "      <th>href</th>\n",
       "      <th>latitude</th>\n",
       "      <th>longitude</th>\n",
       "    </tr>\n",
       "  </thead>\n",
       "  <tbody>\n",
       "    <tr>\n",
       "      <th>0</th>\n",
       "      <td>42b75880f964a52090251fe3</td>\n",
       "      <td>9.7</td>\n",
       "      <td>Park</td>\n",
       "      <td>Millennium Park</td>\n",
       "      <td>201 E Randolph St</td>\n",
       "      <td>60601</td>\n",
       "      <td>Chicago</td>\n",
       "      <td>/v/millennium-park/42b75880f964a52090251fe3</td>\n",
       "      <td>41.882699</td>\n",
       "      <td>-87.623644</td>\n",
       "    </tr>\n",
       "    <tr>\n",
       "      <th>1</th>\n",
       "      <td>4b9511c7f964a520f38d34e3</td>\n",
       "      <td>9.6</td>\n",
       "      <td>Trail</td>\n",
       "      <td>Chicago Lakefront Trail</td>\n",
       "      <td>Lake Michigan Lakefront</td>\n",
       "      <td>60611</td>\n",
       "      <td>Chicago</td>\n",
       "      <td>/v/chicago-lakefront-trail/4b9511c7f964a520f38...</td>\n",
       "      <td>41.967053</td>\n",
       "      <td>-87.646909</td>\n",
       "    </tr>\n",
       "    <tr>\n",
       "      <th>2</th>\n",
       "      <td>49e9ef74f964a52011661fe3</td>\n",
       "      <td>9.6</td>\n",
       "      <td>Art Museum</td>\n",
       "      <td>The Art Institute of Chicago</td>\n",
       "      <td>111 S Michigan Ave</td>\n",
       "      <td>60603</td>\n",
       "      <td>Chicago</td>\n",
       "      <td>/v/the-art-institute-of-chicago/49e9ef74f964a5...</td>\n",
       "      <td>41.879665</td>\n",
       "      <td>-87.623630</td>\n",
       "    </tr>\n",
       "    <tr>\n",
       "      <th>3</th>\n",
       "      <td>4f2a0d0ae4b0837d0c4c2bc3</td>\n",
       "      <td>9.6</td>\n",
       "      <td>Deli / Bodega</td>\n",
       "      <td>Publican Quality Meats</td>\n",
       "      <td>825 W Fulton Market</td>\n",
       "      <td>60607</td>\n",
       "      <td>Chicago</td>\n",
       "      <td>/v/publican-quality-meats/4f2a0d0ae4b0837d0c4c...</td>\n",
       "      <td>41.886642</td>\n",
       "      <td>-87.648718</td>\n",
       "    </tr>\n",
       "    <tr>\n",
       "      <th>4</th>\n",
       "      <td>4aa05f40f964a520643f20e3</td>\n",
       "      <td>9.6</td>\n",
       "      <td>Theater</td>\n",
       "      <td>The Chicago Theatre</td>\n",
       "      <td>175 N State St</td>\n",
       "      <td>60601</td>\n",
       "      <td>Chicago</td>\n",
       "      <td>/v/the-chicago-theatre/4aa05f40f964a520643f20e3</td>\n",
       "      <td>41.885578</td>\n",
       "      <td>-87.627286</td>\n",
       "    </tr>\n",
       "  </tbody>\n",
       "</table>\n",
       "</div>"
      ],
      "text/plain": [
       "                         id  score       category  \\\n",
       "0  42b75880f964a52090251fe3    9.7           Park   \n",
       "1  4b9511c7f964a520f38d34e3    9.6          Trail   \n",
       "2  49e9ef74f964a52011661fe3    9.6     Art Museum   \n",
       "3  4f2a0d0ae4b0837d0c4c2bc3    9.6  Deli / Bodega   \n",
       "4  4aa05f40f964a520643f20e3    9.6        Theater   \n",
       "\n",
       "                           name                  address postalcode     city  \\\n",
       "0               Millennium Park        201 E Randolph St      60601  Chicago   \n",
       "1       Chicago Lakefront Trail  Lake Michigan Lakefront      60611  Chicago   \n",
       "2  The Art Institute of Chicago       111 S Michigan Ave      60603  Chicago   \n",
       "3        Publican Quality Meats      825 W Fulton Market      60607  Chicago   \n",
       "4           The Chicago Theatre           175 N State St      60601  Chicago   \n",
       "\n",
       "                                                href   latitude  longitude  \n",
       "0        /v/millennium-park/42b75880f964a52090251fe3  41.882699 -87.623644  \n",
       "1  /v/chicago-lakefront-trail/4b9511c7f964a520f38...  41.967053 -87.646909  \n",
       "2  /v/the-art-institute-of-chicago/49e9ef74f964a5...  41.879665 -87.623630  \n",
       "3  /v/publican-quality-meats/4f2a0d0ae4b0837d0c4c...  41.886642 -87.648718  \n",
       "4    /v/the-chicago-theatre/4aa05f40f964a520643f20e3  41.885578 -87.627286  "
      ]
     },
     "execution_count": 8,
     "metadata": {},
     "output_type": "execute_result"
    }
   ],
   "source": [
    "# Review the head of the dataframe to make sure it looks as expected\n",
    "df_top_venues.head()"
   ]
  },
  {
   "cell_type": "code",
   "execution_count": 9,
   "metadata": {},
   "outputs": [],
   "source": [
    "# Finally write the dataframe to a pickle file for restoring later\n",
    "df_top_venues.to_pickle('./capstone_pickles/top_venues.pkl')"
   ]
  },
  {
   "cell_type": "markdown",
   "metadata": {},
   "source": [
    "---"
   ]
  },
  {
   "cell_type": "markdown",
   "metadata": {},
   "source": [
    "## FourSquare Restaurent Recommendations Data\n",
    "\n",
    "Using the the list of all venue id values in the Top Sites DataFrame and the FourSquare categoryID that represents all food venues, we now search for restaurants within a 500 meter radius.\n",
    "\n",
    "\n",
    "\n",
    "The requests returns a JSON object which can then be queried for the restaurant details required. A sample restaurnt from the results returned is shown below:\n",
    "\n",
    "~~~~\n",
    "{  \n",
    "    \"referralId\":\"v-1538424503\",\n",
    "    \"hasPerk\":\"False\",\n",
    "    \"venuePage\":{  \n",
    "        \"id\":\"135548807\"\n",
    "    },\n",
    "    \"id\":\"55669b9b498ee34e5249ea61\",\n",
    "    \"location\":{  \n",
    "        \"labeledLatLngs\":[  \n",
    "            {  \n",
    "                \"label\":\"display\",\n",
    "                \"lng\":-87.62460021795313,\n",
    "                \"lat\":41.88169538551873\n",
    "            }\n",
    "        ],\n",
    "        \"crossStreet\":\"btwn E Madison & E Monroe St\",\n",
    "        \"postalCode\":\"60603\",\n",
    "        \"formattedAddress\":[  \n",
    "            \"12 S Michigan Ave (btwn E Madison & E Monroe St)\",\n",
    "            \"Chicago, IL 60603\",\n",
    "            \"United States\"\n",
    "        ],\n",
    "        \"distance\":155,\n",
    "        \"city\":\"Chicago\",\n",
    "        \"lng\":-87.62460021795313,\n",
    "        \"neighborhood\":\"The Loop\",\n",
    "        \"cc\":\"US\",\n",
    "        \"state\":\"IL\",\n",
    "        \"address\":\"12 S Michigan Ave\",\n",
    "        \"lat\":41.88169538551873,\n",
    "        \"country\":\"United States\"\n",
    "    },\n",
    "    \"name\":\"Cindy's\",\n",
    "    \"categories\":[  \n",
    "        {  \n",
    "            \"pluralName\":\"Gastropubs\",\n",
    "            \"id\":\"4bf58dd8d48988d155941735\",\n",
    "            \"name\":\"Gastropub\",\n",
    "            \"primary\":\"True\",\n",
    "            \"icon\":{  \n",
    "                \"prefix\":\"https://ss3.4sqi.net/img/categories_v2/food/gastropub_\",\n",
    "                \"suffix\":\".png\"\n",
    "            },\n",
    "            \"shortName\":\"Gastropub\"\n",
    "        }\n",
    "    ]\n",
    "}\n",
    "~~~~\n",
    "\n",
    "From this JSON the following attributes are extraced and added to the Dataframe:\n",
    "\n",
    "* Restaurant ID\n",
    "* Restaurant Category Name\n",
    "* Restaurant Category ID\n",
    "* Restaurant Nest_name\n",
    "* Restaurant Address\n",
    "* Restaurant Postalcode\n",
    "* Restaurant City\n",
    "* Restaurant Latitude\n",
    "* Restaurant Longitude\n",
    "* Venue Name\n",
    "* Venue Latitude\n",
    "* Venue Longitude\n",
    "\n",
    "The only piece of data that is missing is the Score or Rating of the Restaurant. To get this we need to make another FourSquare API query using the id of the Restaurant.\n",
    "\n",
    "Using just the data in this DataFrame we will be able to generate maps displaying the chosen Top List Venue and the best scored surrounding restaurants."
   ]
  },
  {
   "cell_type": "code",
   "execution_count": 10,
   "metadata": {},
   "outputs": [],
   "source": [
    "# The column names for the restaurants dataframe\n",
    "restaurants_columns = ['id',\n",
    "                       'score', \n",
    "                       'category', \n",
    "                       'categoryID', \n",
    "                       'name', \n",
    "                       'address',\n",
    "                       'postalcode',\n",
    "                       'city',\n",
    "                       'latitude',\n",
    "                       'longitude', \n",
    "                       'venue_name', \n",
    "                       'venue_latitude',\n",
    "                       'venue_longitude']\n",
    "\n",
    "# Create the empty top venues dataframe\n",
    "df_restaurant = pd.DataFrame(columns=restaurants_columns)\n",
    "\n",
    "# Create a list of all the top venue latitude and longitude\n",
    "top_venue_lats = df_top_venues['latitude'].values\n",
    "top_venue_lngs = df_top_venues['longitude'].values\n",
    "\n",
    "# Create a list of all the top venue names\n",
    "top_venue_names = df_top_venues['name'].values\n",
    "\n",
    "# Iterate over each of the top venues\n",
    "# The venue name, latitude and longitude are passed to the loop\n",
    "for ven_name, ven_lat, ven_long in zip(top_venue_names, top_venue_lats, top_venue_lngs):\n",
    "    \n",
    "    # Configure additional Search parameters\n",
    "    # This is the FourSquare Category Id for all food venues\n",
    "    categoryId = '4d4b7105d754a06374d81259'\n",
    "    radius = 500\n",
    "    limit = 50\n",
    "    \n",
    "    # Contruct the FourSquare search API URL\n",
    "    url = 'https://api.foursquare.com/v2/venues/search?client_id={}&client_secret={}&ll={},{}&v={}&categoryId={}&radius={}&limit={}'.format(\n",
    "        cfg['client_id'],\n",
    "        cfg['client_secret'],\n",
    "        ven_lat,\n",
    "        ven_long,\n",
    "        cfg['version'],\n",
    "        categoryId,\n",
    "        radius,\n",
    "        limit)\n",
    "    \n",
    "    # Make the search request\n",
    "    results = requests.get(url).json()\n",
    "    \n",
    "    # Want a good selection of Restaurents\n",
    "    # If less than 10 are returned ignore\n",
    "    if len(results['response']['venues']) < 10:\n",
    "        continue\n",
    "        \n",
    "    # Populate the new dataframe with the list of restaurants\n",
    "    # Get the values for each Restaurant from the JSON\n",
    "    for restaurant in results['response']['venues']:\n",
    " \n",
    "        # Sometimes the Venue JSON is missing data. If so ignore and continue\n",
    "        try:\n",
    "            # Get location details\n",
    "            rest_id = restaurant['id']\n",
    "            rest_category = restaurant['categories'][0]['pluralName']\n",
    "            rest_categoryID = restaurant['categories'][0]['id']\n",
    "            rest_name = restaurant['name']\n",
    "            rest_address = restaurant['location']['address']\n",
    "            rest_postalcode = restaurant['location']['postalCode']\n",
    "            rest_city = restaurant['location']['city']\n",
    "            rest_latitude = restaurant['location']['lat']\n",
    "            rest_longitude = restaurant['location']['lng']\n",
    "            \n",
    "            # Contruct the FourSquare venue API URL to get the venues rating / score\n",
    "            rest_url = 'https://api.foursquare.com/v2/venues/{}?client_id={}&client_secret={}&v={}'.format(\n",
    "                rest_id, \n",
    "                cfg['client_id'],\n",
    "                cfg['client_secret'],\n",
    "                cfg['version'])\n",
    "\n",
    "            # Get the restaurant score and href\n",
    "            result = requests.get(rest_url).json()\n",
    "            rest_score = result['response']['venue']['rating']\n",
    "            \n",
    "            # Add the restaurant details to the dataframe\n",
    "            df_restaurant = df_restaurant.append({'id': rest_id,\n",
    "                                                  'score': rest_score,\n",
    "                                                  'category': rest_category,\n",
    "                                                  'categoryID': rest_categoryID,\n",
    "                                                  'name': rest_name,\n",
    "                                                  'address': rest_address,\n",
    "                                                  'postalcode': rest_postalcode,\n",
    "                                                  'city': rest_city,\n",
    "                                                  'latitude': rest_latitude,\n",
    "                                                  'longitude': rest_longitude,\n",
    "                                                  'venue_name': ven_name,\n",
    "                                                  'venue_latitude': ven_lat,\n",
    "                                                  'venue_longitude': ven_long}, ignore_index=True)\n",
    "            \n",
    "        # If there are any issue with a restaurant ignore and continue\n",
    "        except:\n",
    "            continue\n",
    "\n"
   ]
  },
  {
   "cell_type": "code",
   "execution_count": 11,
   "metadata": {},
   "outputs": [
    {
     "data": {
      "text/plain": [
       "(440, 13)"
      ]
     },
     "execution_count": 11,
     "metadata": {},
     "output_type": "execute_result"
    }
   ],
   "source": [
    "# Verify the shape of the restaurants dataframe\n",
    "df_restaurant.shape"
   ]
  },
  {
   "cell_type": "code",
   "execution_count": 12,
   "metadata": {},
   "outputs": [
    {
     "data": {
      "text/plain": [
       "id                  object\n",
       "score              float64\n",
       "category            object\n",
       "categoryID          object\n",
       "name                object\n",
       "address             object\n",
       "postalcode          object\n",
       "city                object\n",
       "latitude           float64\n",
       "longitude          float64\n",
       "venue_name          object\n",
       "venue_latitude     float64\n",
       "venue_longitude    float64\n",
       "dtype: object"
      ]
     },
     "execution_count": 12,
     "metadata": {},
     "output_type": "execute_result"
    }
   ],
   "source": [
    "# Verify the dtypes of the restaurants dataframe\n",
    "df_restaurant.dtypes"
   ]
  },
  {
   "cell_type": "code",
   "execution_count": 13,
   "metadata": {},
   "outputs": [
    {
     "data": {
      "text/html": [
       "<div>\n",
       "<style scoped>\n",
       "    .dataframe tbody tr th:only-of-type {\n",
       "        vertical-align: middle;\n",
       "    }\n",
       "\n",
       "    .dataframe tbody tr th {\n",
       "        vertical-align: top;\n",
       "    }\n",
       "\n",
       "    .dataframe thead th {\n",
       "        text-align: right;\n",
       "    }\n",
       "</style>\n",
       "<table border=\"1\" class=\"dataframe\">\n",
       "  <thead>\n",
       "    <tr style=\"text-align: right;\">\n",
       "      <th></th>\n",
       "      <th>id</th>\n",
       "      <th>score</th>\n",
       "      <th>category</th>\n",
       "      <th>categoryID</th>\n",
       "      <th>name</th>\n",
       "      <th>address</th>\n",
       "      <th>postalcode</th>\n",
       "      <th>city</th>\n",
       "      <th>latitude</th>\n",
       "      <th>longitude</th>\n",
       "      <th>venue_name</th>\n",
       "      <th>venue_latitude</th>\n",
       "      <th>venue_longitude</th>\n",
       "    </tr>\n",
       "  </thead>\n",
       "  <tbody>\n",
       "    <tr>\n",
       "      <th>0</th>\n",
       "      <td>4e73881c922e0a374024c7b8</td>\n",
       "      <td>7.7</td>\n",
       "      <td>Coffee Shops</td>\n",
       "      <td>4bf58dd8d48988d1e0931735</td>\n",
       "      <td>Starbucks</td>\n",
       "      <td>8 N. Michigan Avenue</td>\n",
       "      <td>60602</td>\n",
       "      <td>Chicago</td>\n",
       "      <td>41.882478</td>\n",
       "      <td>-87.624701</td>\n",
       "      <td>Millennium Park</td>\n",
       "      <td>41.882699</td>\n",
       "      <td>-87.623644</td>\n",
       "    </tr>\n",
       "    <tr>\n",
       "      <th>1</th>\n",
       "      <td>4ed3dd7e93ad987b5112d29f</td>\n",
       "      <td>8.2</td>\n",
       "      <td>Bakeries</td>\n",
       "      <td>4bf58dd8d48988d16a941735</td>\n",
       "      <td>Panera Bread</td>\n",
       "      <td>2 N Michigan Ave</td>\n",
       "      <td>60602</td>\n",
       "      <td>Chicago</td>\n",
       "      <td>41.882273</td>\n",
       "      <td>-87.624795</td>\n",
       "      <td>Millennium Park</td>\n",
       "      <td>41.882699</td>\n",
       "      <td>-87.623644</td>\n",
       "    </tr>\n",
       "    <tr>\n",
       "      <th>2</th>\n",
       "      <td>4e879cdc93adfd051d6d609e</td>\n",
       "      <td>9.2</td>\n",
       "      <td>Breakfast Spots</td>\n",
       "      <td>4bf58dd8d48988d143941735</td>\n",
       "      <td>Wildberry Pancakes &amp; Cafe</td>\n",
       "      <td>130 E Randolph St</td>\n",
       "      <td>60601</td>\n",
       "      <td>Chicago</td>\n",
       "      <td>41.884599</td>\n",
       "      <td>-87.623203</td>\n",
       "      <td>Millennium Park</td>\n",
       "      <td>41.882699</td>\n",
       "      <td>-87.623644</td>\n",
       "    </tr>\n",
       "    <tr>\n",
       "      <th>3</th>\n",
       "      <td>4e56e50352b1d8d4e311da9e</td>\n",
       "      <td>9.0</td>\n",
       "      <td>Bakeries</td>\n",
       "      <td>4bf58dd8d48988d16a941735</td>\n",
       "      <td>Toni Patisserie &amp; Café</td>\n",
       "      <td>65 E Washington St</td>\n",
       "      <td>60602</td>\n",
       "      <td>Chicago</td>\n",
       "      <td>41.883237</td>\n",
       "      <td>-87.625362</td>\n",
       "      <td>Millennium Park</td>\n",
       "      <td>41.882699</td>\n",
       "      <td>-87.623644</td>\n",
       "    </tr>\n",
       "    <tr>\n",
       "      <th>4</th>\n",
       "      <td>55669b9b498ee34e5249ea61</td>\n",
       "      <td>9.2</td>\n",
       "      <td>Gastropubs</td>\n",
       "      <td>4bf58dd8d48988d155941735</td>\n",
       "      <td>Cindy's</td>\n",
       "      <td>12 S Michigan Ave</td>\n",
       "      <td>60603</td>\n",
       "      <td>Chicago</td>\n",
       "      <td>41.881695</td>\n",
       "      <td>-87.624600</td>\n",
       "      <td>Millennium Park</td>\n",
       "      <td>41.882699</td>\n",
       "      <td>-87.623644</td>\n",
       "    </tr>\n",
       "  </tbody>\n",
       "</table>\n",
       "</div>"
      ],
      "text/plain": [
       "                         id  score         category                categoryID  \\\n",
       "0  4e73881c922e0a374024c7b8    7.7     Coffee Shops  4bf58dd8d48988d1e0931735   \n",
       "1  4ed3dd7e93ad987b5112d29f    8.2         Bakeries  4bf58dd8d48988d16a941735   \n",
       "2  4e879cdc93adfd051d6d609e    9.2  Breakfast Spots  4bf58dd8d48988d143941735   \n",
       "3  4e56e50352b1d8d4e311da9e    9.0         Bakeries  4bf58dd8d48988d16a941735   \n",
       "4  55669b9b498ee34e5249ea61    9.2       Gastropubs  4bf58dd8d48988d155941735   \n",
       "\n",
       "                        name               address postalcode     city  \\\n",
       "0                  Starbucks  8 N. Michigan Avenue      60602  Chicago   \n",
       "1               Panera Bread      2 N Michigan Ave      60602  Chicago   \n",
       "2  Wildberry Pancakes & Cafe     130 E Randolph St      60601  Chicago   \n",
       "3     Toni Patisserie & Café    65 E Washington St      60602  Chicago   \n",
       "4                    Cindy's     12 S Michigan Ave      60603  Chicago   \n",
       "\n",
       "    latitude  longitude       venue_name  venue_latitude  venue_longitude  \n",
       "0  41.882478 -87.624701  Millennium Park       41.882699       -87.623644  \n",
       "1  41.882273 -87.624795  Millennium Park       41.882699       -87.623644  \n",
       "2  41.884599 -87.623203  Millennium Park       41.882699       -87.623644  \n",
       "3  41.883237 -87.625362  Millennium Park       41.882699       -87.623644  \n",
       "4  41.881695 -87.624600  Millennium Park       41.882699       -87.623644  "
      ]
     },
     "execution_count": 13,
     "metadata": {},
     "output_type": "execute_result"
    }
   ],
   "source": [
    "# Review the head of the dataframe to make sure it looks as expected\n",
    "df_restaurant.head()"
   ]
  },
  {
   "cell_type": "code",
   "execution_count": 14,
   "metadata": {},
   "outputs": [
    {
     "data": {
      "text/plain": [
       "count    440.000000\n",
       "mean       8.120000\n",
       "std        0.927711\n",
       "min        5.300000\n",
       "25%        7.600000\n",
       "50%        8.300000\n",
       "75%        8.800000\n",
       "max        9.600000\n",
       "Name: score, dtype: float64"
      ]
     },
     "execution_count": 14,
     "metadata": {},
     "output_type": "execute_result"
    }
   ],
   "source": [
    "# Describe the score to see if there is nuch variance in the values\n",
    "df_restaurant.score.describe()"
   ]
  },
  {
   "cell_type": "code",
   "execution_count": 15,
   "metadata": {},
   "outputs": [
    {
     "data": {
      "text/plain": [
       "11"
      ]
     },
     "execution_count": 15,
     "metadata": {},
     "output_type": "execute_result"
    }
   ],
   "source": [
    "# How many of the top 30 sites / venues had > 10 restaurants nearby\n",
    "df_restaurant.venue_name.nunique()"
   ]
  },
  {
   "cell_type": "code",
   "execution_count": 16,
   "metadata": {},
   "outputs": [
    {
     "data": {
      "text/plain": [
       "71"
      ]
     },
     "execution_count": 16,
     "metadata": {},
     "output_type": "execute_result"
    }
   ],
   "source": [
    "# How many unique restaurant categories are there\n",
    "df_restaurant.category.nunique()"
   ]
  },
  {
   "cell_type": "code",
   "execution_count": 17,
   "metadata": {},
   "outputs": [
    {
     "data": {
      "text/plain": [
       "222"
      ]
     },
     "execution_count": 17,
     "metadata": {},
     "output_type": "execute_result"
    }
   ],
   "source": [
    "# How many unique restaurants are there\n",
    "df_restaurant.name.nunique()"
   ]
  },
  {
   "cell_type": "code",
   "execution_count": 18,
   "metadata": {},
   "outputs": [
    {
     "data": {
      "text/plain": [
       "category\n",
       "Coffee Shops                70\n",
       "New American Restaurants    23\n",
       "Pizza Places                22\n",
       "American Restaurants        21\n",
       "Italian Restaurants         19\n",
       "Mexican Restaurants         17\n",
       "Cafés                       16\n",
       "Bakeries                    14\n",
       "Sandwich Places             14\n",
       "Donut Shops                 14\n",
       "Name: name, dtype: int64"
      ]
     },
     "execution_count": 18,
     "metadata": {},
     "output_type": "execute_result"
    }
   ],
   "source": [
    "# What arethe top 10 most frequently occuring restaurant types\n",
    "df_restaurant.groupby('category')['name'].count().sort_values(ascending=False)[:10]"
   ]
  },
  {
   "cell_type": "code",
   "execution_count": 19,
   "metadata": {},
   "outputs": [
    {
     "data": {
      "text/plain": [
       "category\n",
       "Seafood Restaurants                 9.480000\n",
       "Chocolate Shops                     9.400000\n",
       "Diners                              9.300000\n",
       "Japanese Restaurants                9.300000\n",
       "Gourmet Shops                       9.200000\n",
       "Southern / Soul Food Restaurants    9.100000\n",
       "Cuban Restaurants                   9.100000\n",
       "Breakfast Spots                     9.071429\n",
       "Mediterranean Restaurants           9.000000\n",
       "Music Venues                        9.000000\n",
       "Name: score, dtype: float64"
      ]
     },
     "execution_count": 19,
     "metadata": {},
     "output_type": "execute_result"
    }
   ],
   "source": [
    "# Which restaurants have to highest average score\n",
    "df_restaurant.groupby('category')['score'].mean().sort_values(ascending=False)[:10]"
   ]
  },
  {
   "cell_type": "code",
   "execution_count": 20,
   "metadata": {},
   "outputs": [],
   "source": [
    "# Finally write the dataframe to a pickle file for restoring later\n",
    "df_restaurant.to_pickle('./capstone_pickles/restaurants.pkl')"
   ]
  },
  {
   "cell_type": "markdown",
   "metadata": {},
   "source": [
    "---\n",
    "\n",
    "# Import and process the Chicago Crime DataSet\n",
    "This dataset reflects reported incidents of crime (with the exception of murders where data exists for each victim) that occurred in the City of Chicago in the last year, minus the most recent seven days. Data is extracted from the Chicago Police Department's CLEAR (Citizen Law Enforcement Analysis and Reporting) system. In order to protect the privacy of crime victims, addresses are shown at the block level only and specific locations are not identified.\n",
    "\n",
    "| Column Name   | Type          | Description                                            | \n",
    "| :------------ | :------------ | :----------------------------------------------------- | \n",
    "| CASE#         | Plain Text    | The Chicago Police Department RD Number (Records Division Number), which is unique to the incident. | \n",
    "| DATE OF OCCURRENCE | Date & Time   | Date when the incident occurred. this is sometimes a best estimate. |\n",
    "| BLOCK\t        | Plain Text    | The partially redacted address where the incident occurred, placing it on the same block as the actual address. |\n",
    "| IUCR\t        | Plain Text    | The Illinois Unifrom Crime Reporting code. This is directly linked to the Primary Type and Description. See the list of IUCR codes at https://data.cityofchicago.org/d/c7ck-438e. |\n",
    "| PRIMARY DESCRIPTION   | Plain Text    | The primary description of the IUCR code. |\n",
    "| SECONDARY DESCRIPTION\t| Plain Text    | The secondary description of the IUCR code, a subcategory of the primary description. |\n",
    "| LOCATION DESCRIPTION | Plain Text | Description of the location where the incident occurred. |\n",
    "| ARREST        | Plain Text    | Indicates whether an arrest was made. |\n",
    "| DOMESTIC      | Plain Text    | Indicates whether the incident was domestic-related as defined by the Illinois Domestic Violence Act. |\n",
    "| BEAT          | Plain Text    | Indicates the beat where the incident occurred. A beat is the smallest police geographic area – each beat has a dedicated police beat car. Three to five beats make up a police sector, and three sectors make up a police district. The Chicago Police Department has 22 police districts. See the beats at https://data.cityofchicago.org/d/aerh-rz74. |\n",
    "| WARD\t        | Number        | The ward (City Council district) where the incident occurred. See the wards at https://data.cityofchicago.org/d/sp34-6z76. |\n",
    "| FBI CD        | Plain Text    | Indicates the crime classification as outlined in the FBI's National Incident-Based Reporting System (NIBRS). See the Chicago Police Department listing of these classifications at http://gis.chicagopolice.org/clearmap_crime_sums/crime_types.html. |\n",
    "| X COORDINATE\t| Plain Text    | The x coordinate of the location where the incident occurred in State Plane Illinois East NAD 1983 projection. This location is shifted from the actual location for partial redaction but falls on the same block. |\n",
    "| Y COORDINATE\t| Plain Text    | The y coordinate of the location where the incident occurred in State Plane Illinois East NAD 1983 projection. This location is shifted from the actual location for partial redaction but falls on the same block. |\n",
    "| LATITUDE\t    | Number        | The latitude of the location where the incident occurred. This location is shifted from the actual location for partial redaction but falls on the same block. |\n",
    "| LONGITUDE\t    | Number        | The longitude of the location where the incident occurred. This location is shifted from the actual location for partial redaction but falls on the same block. |\n",
    "| LOCATION\t    | Location      | The location where the incident occurred in a format that allows for creation of maps and other geographic operations on this data portal. This location is shifted from the actual location for partial redaction but falls on the same block. |\n",
    "\t\n",
    "\n",
    "\n"
   ]
  },
  {
   "cell_type": "markdown",
   "metadata": {
    "collapsed": true
   },
   "source": [
    "### Import the 2018 DataSet\n",
    "\n",
    "The full dataset, 2001 to 2018 contains over 6.7M rows. This makes processing the dataset difficult and time consuming. Only the 2018 data, 187222 records, will be used. In addition, the following clean-up steps are required:\n",
    "1. Not all of the columns are required. The following columns are removed:\n",
    "    1. IUCR\n",
    "    1. ARREST\n",
    "    1. DOMESTIC\n",
    "    1. BEAT\n",
    "    1. WARD\n",
    "    1. FBI CD\n",
    "    1. X COORDINATE\n",
    "    1. Y COORDINATE\n",
    "    1. LOCATION"
   ]
  },
  {
   "cell_type": "code",
   "execution_count": 21,
   "metadata": {},
   "outputs": [],
   "source": [
    "# These are the columns that we want to keep.\n",
    "# Columns not listed here won't be imported, speeding things up.\n",
    "crime_keep_columns = ['CASE#',\n",
    "                      'DATE  OF OCCURRENCE',\n",
    "                      'BLOCK', \n",
    "                      ' PRIMARY DESCRIPTION',\n",
    "                      'WARD',\n",
    "                      'LATITUDE',\n",
    "                      'LONGITUDE']"
   ]
  },
  {
   "cell_type": "code",
   "execution_count": 22,
   "metadata": {},
   "outputs": [],
   "source": [
    "# Download csv\n",
    "# !wget -O './capstone_data/crimes.csv' https://data.cityofchicago.org/api/views/x2n5-8w5q/rows.csv?accessType=DOWNLOAD"
   ]
  },
  {
   "cell_type": "code",
   "execution_count": 23,
   "metadata": {},
   "outputs": [],
   "source": [
    "# Read cvs download into datafram\n",
    "df = pd.read_csv('./capstone_data/crimes.csv',\n",
    "                 usecols=crime_keep_columns)"
   ]
  },
  {
   "cell_type": "markdown",
   "metadata": {},
   "source": [
    "Looking at the Shape of df we can see that only 7 columns have been imported instead of all 22."
   ]
  },
  {
   "cell_type": "code",
   "execution_count": 24,
   "metadata": {},
   "outputs": [
    {
     "data": {
      "text/plain": [
       "(264387, 7)"
      ]
     },
     "execution_count": 24,
     "metadata": {},
     "output_type": "execute_result"
    }
   ],
   "source": [
    "df.shape"
   ]
  },
  {
   "cell_type": "markdown",
   "metadata": {},
   "source": [
    "Let's have a quick look at the Head of the imported data"
   ]
  },
  {
   "cell_type": "code",
   "execution_count": 25,
   "metadata": {},
   "outputs": [
    {
     "data": {
      "text/html": [
       "<div>\n",
       "<style scoped>\n",
       "    .dataframe tbody tr th:only-of-type {\n",
       "        vertical-align: middle;\n",
       "    }\n",
       "\n",
       "    .dataframe tbody tr th {\n",
       "        vertical-align: top;\n",
       "    }\n",
       "\n",
       "    .dataframe thead th {\n",
       "        text-align: right;\n",
       "    }\n",
       "</style>\n",
       "<table border=\"1\" class=\"dataframe\">\n",
       "  <thead>\n",
       "    <tr style=\"text-align: right;\">\n",
       "      <th></th>\n",
       "      <th>CASE#</th>\n",
       "      <th>DATE  OF OCCURRENCE</th>\n",
       "      <th>BLOCK</th>\n",
       "      <th>PRIMARY DESCRIPTION</th>\n",
       "      <th>WARD</th>\n",
       "      <th>LATITUDE</th>\n",
       "      <th>LONGITUDE</th>\n",
       "    </tr>\n",
       "  </thead>\n",
       "  <tbody>\n",
       "    <tr>\n",
       "      <th>0</th>\n",
       "      <td>JB241987</td>\n",
       "      <td>04/28/2018 10:05:00 PM</td>\n",
       "      <td>009XX N LONG AVE</td>\n",
       "      <td>NARCOTICS</td>\n",
       "      <td>37.0</td>\n",
       "      <td>41.897895</td>\n",
       "      <td>-87.760744</td>\n",
       "    </tr>\n",
       "    <tr>\n",
       "      <th>1</th>\n",
       "      <td>JB241350</td>\n",
       "      <td>04/28/2018 08:00:00 AM</td>\n",
       "      <td>008XX E 53RD ST</td>\n",
       "      <td>CRIMINAL DAMAGE</td>\n",
       "      <td>5.0</td>\n",
       "      <td>41.798635</td>\n",
       "      <td>-87.604823</td>\n",
       "    </tr>\n",
       "    <tr>\n",
       "      <th>2</th>\n",
       "      <td>JB245397</td>\n",
       "      <td>04/28/2018 09:00:00 AM</td>\n",
       "      <td>062XX S MICHIGAN AVE</td>\n",
       "      <td>THEFT</td>\n",
       "      <td>20.0</td>\n",
       "      <td>41.780946</td>\n",
       "      <td>-87.621995</td>\n",
       "    </tr>\n",
       "    <tr>\n",
       "      <th>3</th>\n",
       "      <td>JB241444</td>\n",
       "      <td>04/28/2018 12:15:00 PM</td>\n",
       "      <td>046XX N ELSTON AVE</td>\n",
       "      <td>THEFT</td>\n",
       "      <td>39.0</td>\n",
       "      <td>41.965404</td>\n",
       "      <td>-87.736202</td>\n",
       "    </tr>\n",
       "    <tr>\n",
       "      <th>4</th>\n",
       "      <td>JB241667</td>\n",
       "      <td>04/28/2018 04:28:00 PM</td>\n",
       "      <td>022XX S KENNETH AVE</td>\n",
       "      <td>ARSON</td>\n",
       "      <td>22.0</td>\n",
       "      <td>41.850673</td>\n",
       "      <td>-87.735597</td>\n",
       "    </tr>\n",
       "  </tbody>\n",
       "</table>\n",
       "</div>"
      ],
      "text/plain": [
       "      CASE#     DATE  OF OCCURRENCE                 BLOCK  \\\n",
       "0  JB241987  04/28/2018 10:05:00 PM      009XX N LONG AVE   \n",
       "1  JB241350  04/28/2018 08:00:00 AM       008XX E 53RD ST   \n",
       "2  JB245397  04/28/2018 09:00:00 AM  062XX S MICHIGAN AVE   \n",
       "3  JB241444  04/28/2018 12:15:00 PM    046XX N ELSTON AVE   \n",
       "4  JB241667  04/28/2018 04:28:00 PM   022XX S KENNETH AVE   \n",
       "\n",
       "   PRIMARY DESCRIPTION  WARD   LATITUDE  LONGITUDE  \n",
       "0            NARCOTICS  37.0  41.897895 -87.760744  \n",
       "1      CRIMINAL DAMAGE   5.0  41.798635 -87.604823  \n",
       "2                THEFT  20.0  41.780946 -87.621995  \n",
       "3                THEFT  39.0  41.965404 -87.736202  \n",
       "4                ARSON  22.0  41.850673 -87.735597  "
      ]
     },
     "execution_count": 25,
     "metadata": {},
     "output_type": "execute_result"
    }
   ],
   "source": [
    "df.head()"
   ]
  },
  {
   "cell_type": "code",
   "execution_count": 26,
   "metadata": {},
   "outputs": [
    {
     "data": {
      "text/html": [
       "<div>\n",
       "<style scoped>\n",
       "    .dataframe tbody tr th:only-of-type {\n",
       "        vertical-align: middle;\n",
       "    }\n",
       "\n",
       "    .dataframe tbody tr th {\n",
       "        vertical-align: top;\n",
       "    }\n",
       "\n",
       "    .dataframe thead th {\n",
       "        text-align: right;\n",
       "    }\n",
       "</style>\n",
       "<table border=\"1\" class=\"dataframe\">\n",
       "  <thead>\n",
       "    <tr style=\"text-align: right;\">\n",
       "      <th></th>\n",
       "      <th>CASE#</th>\n",
       "      <th>DATE  OF OCCURRENCE</th>\n",
       "      <th>BLOCK</th>\n",
       "      <th>PRIMARY DESCRIPTION</th>\n",
       "      <th>WARD</th>\n",
       "      <th>LATITUDE</th>\n",
       "      <th>LONGITUDE</th>\n",
       "    </tr>\n",
       "  </thead>\n",
       "  <tbody>\n",
       "    <tr>\n",
       "      <th>264382</th>\n",
       "      <td>JA525920</td>\n",
       "      <td>11/26/2017 02:02:00 PM</td>\n",
       "      <td>081XX S ASHLAND AVE</td>\n",
       "      <td>THEFT</td>\n",
       "      <td>21.0</td>\n",
       "      <td>41.746260</td>\n",
       "      <td>-87.663332</td>\n",
       "    </tr>\n",
       "    <tr>\n",
       "      <th>264383</th>\n",
       "      <td>JA475906</td>\n",
       "      <td>10/18/2017 01:31:00 PM</td>\n",
       "      <td>048XX N SHERIDAN RD</td>\n",
       "      <td>ASSAULT</td>\n",
       "      <td>46.0</td>\n",
       "      <td>41.969326</td>\n",
       "      <td>-87.654826</td>\n",
       "    </tr>\n",
       "    <tr>\n",
       "      <th>264384</th>\n",
       "      <td>JA534571</td>\n",
       "      <td>12/03/2017 03:18:00 AM</td>\n",
       "      <td>002XX W 38TH PL</td>\n",
       "      <td>BATTERY</td>\n",
       "      <td>3.0</td>\n",
       "      <td>41.824547</td>\n",
       "      <td>-87.633096</td>\n",
       "    </tr>\n",
       "    <tr>\n",
       "      <th>264385</th>\n",
       "      <td>JA492228</td>\n",
       "      <td>10/30/2017 04:00:00 PM</td>\n",
       "      <td>072XX S SOUTH SHORE DR</td>\n",
       "      <td>THEFT</td>\n",
       "      <td>7.0</td>\n",
       "      <td>41.764728</td>\n",
       "      <td>-87.561272</td>\n",
       "    </tr>\n",
       "    <tr>\n",
       "      <th>264386</th>\n",
       "      <td>JA536019</td>\n",
       "      <td>12/02/2017 08:00:00 PM</td>\n",
       "      <td>083XX S INDIANA AVE</td>\n",
       "      <td>CRIMINAL DAMAGE</td>\n",
       "      <td>6.0</td>\n",
       "      <td>41.742865</td>\n",
       "      <td>-87.619547</td>\n",
       "    </tr>\n",
       "  </tbody>\n",
       "</table>\n",
       "</div>"
      ],
      "text/plain": [
       "           CASE#     DATE  OF OCCURRENCE                   BLOCK  \\\n",
       "264382  JA525920  11/26/2017 02:02:00 PM     081XX S ASHLAND AVE   \n",
       "264383  JA475906  10/18/2017 01:31:00 PM     048XX N SHERIDAN RD   \n",
       "264384  JA534571  12/03/2017 03:18:00 AM         002XX W 38TH PL   \n",
       "264385  JA492228  10/30/2017 04:00:00 PM  072XX S SOUTH SHORE DR   \n",
       "264386  JA536019  12/02/2017 08:00:00 PM     083XX S INDIANA AVE   \n",
       "\n",
       "        PRIMARY DESCRIPTION  WARD   LATITUDE  LONGITUDE  \n",
       "264382                THEFT  21.0  41.746260 -87.663332  \n",
       "264383              ASSAULT  46.0  41.969326 -87.654826  \n",
       "264384              BATTERY   3.0  41.824547 -87.633096  \n",
       "264385                THEFT   7.0  41.764728 -87.561272  \n",
       "264386      CRIMINAL DAMAGE   6.0  41.742865 -87.619547  "
      ]
     },
     "execution_count": 26,
     "metadata": {},
     "output_type": "execute_result"
    }
   ],
   "source": [
    "df.tail()"
   ]
  },
  {
   "cell_type": "markdown",
   "metadata": {},
   "source": [
    "---\n",
    "### Clean up the data and prepare\n",
    "\n",
    "The sample data file was downloaded in the middle of September. So half of September of 2017 was missing and half of September 2018 was not yet populated. To simply resolve this the raw data was altered to move the September 2017 dates to September 2018. \n",
    "\n",
    "Now that the data has been imported it needs to be cleaned.\n",
    "1. Move September 2017 dates to September 2018\n",
    "1. Clean up the column names:\n",
    "    1. Strip leading & trailing whitespace\n",
    "    1. Replace multiple spaces with a single space\n",
    "    1. Remove # characters\n",
    "    1. Replace spaces with _\n",
    "    2. Convert to lowercase\n",
    "1. Change the date of occurance field to a date / time object\n",
    "1. Add new columns for:\n",
    "    1. Hour\n",
    "    1. Day\n",
    "    1. Month\n",
    "    1. Year\n",
    "    1. etc.\n",
    "1. Split Block into zip_code and street\n",
    "1. Verify that all rows have valid data"
   ]
  },
  {
   "cell_type": "code",
   "execution_count": 27,
   "metadata": {},
   "outputs": [],
   "source": [
    "# Strip leading & trailing whitespace\n",
    "df.columns = df.columns.str.strip()\n",
    "\n",
    "# Replace multiple spaces with a single space\n",
    "df.columns = df.columns.str.replace('\\s{2,}', ' ')\n",
    "\n",
    "# Replace # with blank\n",
    "df.columns = df.columns.str.replace('#', '')\n",
    "\n",
    "# Replace spaces with _\n",
    "df.columns = df.columns.str.replace(' ', '_')\n",
    "\n",
    "# Convert to lowercase\n",
    "df.columns = df.columns.str.lower()\n",
    "\n",
    "# Move September 2017 dates to September 2018\n",
    "df.date_of_occurrence.replace(to_replace=\"(09/\\\\d+)/2017\", value=r\"\\1/2018\", regex=True, inplace=True)"
   ]
  },
  {
   "cell_type": "code",
   "execution_count": 28,
   "metadata": {},
   "outputs": [
    {
     "data": {
      "text/plain": [
       "case                    object\n",
       "date_of_occurrence      object\n",
       "block                   object\n",
       "primary_description     object\n",
       "ward                   float64\n",
       "latitude               float64\n",
       "longitude              float64\n",
       "dtype: object"
      ]
     },
     "execution_count": 28,
     "metadata": {},
     "output_type": "execute_result"
    }
   ],
   "source": [
    "# Verify that all datatype are as expected\n",
    "df.dtypes"
   ]
  },
  {
   "cell_type": "markdown",
   "metadata": {},
   "source": [
    "Change the date of occurance field to a date / time object"
   ]
  },
  {
   "cell_type": "code",
   "execution_count": 29,
   "metadata": {},
   "outputs": [],
   "source": [
    "df['date_of_occurrence'] =  pd.to_datetime(df['date_of_occurrence'], format='%m/%d/%Y %I:%M:%S %p')"
   ]
  },
  {
   "cell_type": "markdown",
   "metadata": {},
   "source": [
    "Now that the date date of the crime is a real date time object let's add new columns for the hour, day, month and year of the crime etc:\n",
    "1. Hour\n",
    "1. Day Name\n",
    "1. Day of week (Tuesday is the first day)\n",
    "1. Month Name\n",
    "1. Month Number\n",
    "1. Year\n",
    "1. Year and Month"
   ]
  },
  {
   "cell_type": "code",
   "execution_count": 30,
   "metadata": {},
   "outputs": [],
   "source": [
    "# Add new columns to the dataframe to allow hourly, daily & monthly analysis\n",
    "df['hour'] = df['date_of_occurrence'].dt.hour\n",
    "df['day_name'] = df['date_of_occurrence'].dt.day_name()\n",
    "df['day'] = df['date_of_occurrence'].dt.dayofweek + 1\n",
    "df['month_name'] = df['date_of_occurrence'].dt.month_name()\n",
    "df['month'] = df['date_of_occurrence'].dt.month\n",
    "df['year'] = df['date_of_occurrence'].dt.year\n",
    "df['year_month'] = df['date_of_occurrence'].dt.to_period('M')"
   ]
  },
  {
   "cell_type": "markdown",
   "metadata": {},
   "source": [
    "The Block attribute can be split into zip_code and street"
   ]
  },
  {
   "cell_type": "code",
   "execution_count": 31,
   "metadata": {},
   "outputs": [],
   "source": [
    "# Add the zip and street attributes\n",
    "df['zip'] = df.block.str.split(' ').str[0]\n",
    "df['street'] = df.block.str.split(' ').str[1:].apply(', '.join)"
   ]
  },
  {
   "cell_type": "markdown",
   "metadata": {},
   "source": [
    "Verify that all rows have valid data"
   ]
  },
  {
   "cell_type": "code",
   "execution_count": 32,
   "metadata": {},
   "outputs": [
    {
     "data": {
      "text/plain": [
       "case                      0\n",
       "date_of_occurrence        0\n",
       "block                     0\n",
       "primary_description       0\n",
       "ward                      2\n",
       "latitude               2378\n",
       "longitude              2378\n",
       "hour                      0\n",
       "day_name                  0\n",
       "day                       0\n",
       "month_name                0\n",
       "month                     0\n",
       "year                      0\n",
       "year_month                0\n",
       "zip                       0\n",
       "street                    0\n",
       "dtype: int64"
      ]
     },
     "execution_count": 32,
     "metadata": {},
     "output_type": "execute_result"
    }
   ],
   "source": [
    "# Verify that all rows have valid data\n",
    "df.isna().sum()"
   ]
  },
  {
   "cell_type": "markdown",
   "metadata": {},
   "source": [
    "Some Latitude and Longitude values are missing, drop them."
   ]
  },
  {
   "cell_type": "code",
   "execution_count": 33,
   "metadata": {},
   "outputs": [],
   "source": [
    "# Drop rows with missing values \n",
    "df.dropna(inplace=True)"
   ]
  },
  {
   "cell_type": "code",
   "execution_count": 34,
   "metadata": {},
   "outputs": [],
   "source": [
    "# Reindex\n",
    "df.reset_index(inplace=True)"
   ]
  },
  {
   "cell_type": "code",
   "execution_count": 35,
   "metadata": {},
   "outputs": [
    {
     "data": {
      "text/html": [
       "<div>\n",
       "<style scoped>\n",
       "    .dataframe tbody tr th:only-of-type {\n",
       "        vertical-align: middle;\n",
       "    }\n",
       "\n",
       "    .dataframe tbody tr th {\n",
       "        vertical-align: top;\n",
       "    }\n",
       "\n",
       "    .dataframe thead th {\n",
       "        text-align: right;\n",
       "    }\n",
       "</style>\n",
       "<table border=\"1\" class=\"dataframe\">\n",
       "  <thead>\n",
       "    <tr style=\"text-align: right;\">\n",
       "      <th></th>\n",
       "      <th>index</th>\n",
       "      <th>case</th>\n",
       "      <th>date_of_occurrence</th>\n",
       "      <th>block</th>\n",
       "      <th>primary_description</th>\n",
       "      <th>ward</th>\n",
       "      <th>latitude</th>\n",
       "      <th>longitude</th>\n",
       "      <th>hour</th>\n",
       "      <th>day_name</th>\n",
       "      <th>day</th>\n",
       "      <th>month_name</th>\n",
       "      <th>month</th>\n",
       "      <th>year</th>\n",
       "      <th>year_month</th>\n",
       "      <th>zip</th>\n",
       "      <th>street</th>\n",
       "    </tr>\n",
       "  </thead>\n",
       "  <tbody>\n",
       "    <tr>\n",
       "      <th>0</th>\n",
       "      <td>0</td>\n",
       "      <td>JB241987</td>\n",
       "      <td>2018-04-28 22:05:00</td>\n",
       "      <td>009XX N LONG AVE</td>\n",
       "      <td>NARCOTICS</td>\n",
       "      <td>37.0</td>\n",
       "      <td>41.897895</td>\n",
       "      <td>-87.760744</td>\n",
       "      <td>22</td>\n",
       "      <td>Saturday</td>\n",
       "      <td>6</td>\n",
       "      <td>April</td>\n",
       "      <td>4</td>\n",
       "      <td>2018</td>\n",
       "      <td>2018-04</td>\n",
       "      <td>009XX</td>\n",
       "      <td>N, LONG, AVE</td>\n",
       "    </tr>\n",
       "    <tr>\n",
       "      <th>1</th>\n",
       "      <td>1</td>\n",
       "      <td>JB241350</td>\n",
       "      <td>2018-04-28 08:00:00</td>\n",
       "      <td>008XX E 53RD ST</td>\n",
       "      <td>CRIMINAL DAMAGE</td>\n",
       "      <td>5.0</td>\n",
       "      <td>41.798635</td>\n",
       "      <td>-87.604823</td>\n",
       "      <td>8</td>\n",
       "      <td>Saturday</td>\n",
       "      <td>6</td>\n",
       "      <td>April</td>\n",
       "      <td>4</td>\n",
       "      <td>2018</td>\n",
       "      <td>2018-04</td>\n",
       "      <td>008XX</td>\n",
       "      <td>E, 53RD, ST</td>\n",
       "    </tr>\n",
       "    <tr>\n",
       "      <th>2</th>\n",
       "      <td>2</td>\n",
       "      <td>JB245397</td>\n",
       "      <td>2018-04-28 09:00:00</td>\n",
       "      <td>062XX S MICHIGAN AVE</td>\n",
       "      <td>THEFT</td>\n",
       "      <td>20.0</td>\n",
       "      <td>41.780946</td>\n",
       "      <td>-87.621995</td>\n",
       "      <td>9</td>\n",
       "      <td>Saturday</td>\n",
       "      <td>6</td>\n",
       "      <td>April</td>\n",
       "      <td>4</td>\n",
       "      <td>2018</td>\n",
       "      <td>2018-04</td>\n",
       "      <td>062XX</td>\n",
       "      <td>S, MICHIGAN, AVE</td>\n",
       "    </tr>\n",
       "    <tr>\n",
       "      <th>3</th>\n",
       "      <td>3</td>\n",
       "      <td>JB241444</td>\n",
       "      <td>2018-04-28 12:15:00</td>\n",
       "      <td>046XX N ELSTON AVE</td>\n",
       "      <td>THEFT</td>\n",
       "      <td>39.0</td>\n",
       "      <td>41.965404</td>\n",
       "      <td>-87.736202</td>\n",
       "      <td>12</td>\n",
       "      <td>Saturday</td>\n",
       "      <td>6</td>\n",
       "      <td>April</td>\n",
       "      <td>4</td>\n",
       "      <td>2018</td>\n",
       "      <td>2018-04</td>\n",
       "      <td>046XX</td>\n",
       "      <td>N, ELSTON, AVE</td>\n",
       "    </tr>\n",
       "    <tr>\n",
       "      <th>4</th>\n",
       "      <td>4</td>\n",
       "      <td>JB241667</td>\n",
       "      <td>2018-04-28 16:28:00</td>\n",
       "      <td>022XX S KENNETH AVE</td>\n",
       "      <td>ARSON</td>\n",
       "      <td>22.0</td>\n",
       "      <td>41.850673</td>\n",
       "      <td>-87.735597</td>\n",
       "      <td>16</td>\n",
       "      <td>Saturday</td>\n",
       "      <td>6</td>\n",
       "      <td>April</td>\n",
       "      <td>4</td>\n",
       "      <td>2018</td>\n",
       "      <td>2018-04</td>\n",
       "      <td>022XX</td>\n",
       "      <td>S, KENNETH, AVE</td>\n",
       "    </tr>\n",
       "  </tbody>\n",
       "</table>\n",
       "</div>"
      ],
      "text/plain": [
       "   index      case  date_of_occurrence                 block  \\\n",
       "0      0  JB241987 2018-04-28 22:05:00      009XX N LONG AVE   \n",
       "1      1  JB241350 2018-04-28 08:00:00       008XX E 53RD ST   \n",
       "2      2  JB245397 2018-04-28 09:00:00  062XX S MICHIGAN AVE   \n",
       "3      3  JB241444 2018-04-28 12:15:00    046XX N ELSTON AVE   \n",
       "4      4  JB241667 2018-04-28 16:28:00   022XX S KENNETH AVE   \n",
       "\n",
       "  primary_description  ward   latitude  longitude  hour  day_name  day  \\\n",
       "0           NARCOTICS  37.0  41.897895 -87.760744    22  Saturday    6   \n",
       "1     CRIMINAL DAMAGE   5.0  41.798635 -87.604823     8  Saturday    6   \n",
       "2               THEFT  20.0  41.780946 -87.621995     9  Saturday    6   \n",
       "3               THEFT  39.0  41.965404 -87.736202    12  Saturday    6   \n",
       "4               ARSON  22.0  41.850673 -87.735597    16  Saturday    6   \n",
       "\n",
       "  month_name  month  year year_month    zip            street  \n",
       "0      April      4  2018    2018-04  009XX      N, LONG, AVE  \n",
       "1      April      4  2018    2018-04  008XX       E, 53RD, ST  \n",
       "2      April      4  2018    2018-04  062XX  S, MICHIGAN, AVE  \n",
       "3      April      4  2018    2018-04  046XX    N, ELSTON, AVE  \n",
       "4      April      4  2018    2018-04  022XX   S, KENNETH, AVE  "
      ]
     },
     "execution_count": 35,
     "metadata": {},
     "output_type": "execute_result"
    }
   ],
   "source": [
    "# Have a final look at the crime dataframe\n",
    "df.head()"
   ]
  },
  {
   "cell_type": "code",
   "execution_count": 36,
   "metadata": {},
   "outputs": [],
   "source": [
    "# Finally write the dataframe to a pickle file for restoring later\n",
    "df.to_pickle('./capstone_pickles/crimes.pkl')"
   ]
  },
  {
   "cell_type": "markdown",
   "metadata": {},
   "source": [
    "The data is now ready for visualisation."
   ]
  }
 ],
 "metadata": {
  "kernelspec": {
   "display_name": "Python [conda root]",
   "language": "python",
   "name": "conda-root-py"
  },
  "language_info": {
   "codemirror_mode": {
    "name": "ipython",
    "version": 3
   },
   "file_extension": ".py",
   "mimetype": "text/x-python",
   "name": "python",
   "nbconvert_exporter": "python",
   "pygments_lexer": "ipython3",
   "version": "3.5.6"
  }
 },
 "nbformat": 4,
 "nbformat_minor": 2
}
